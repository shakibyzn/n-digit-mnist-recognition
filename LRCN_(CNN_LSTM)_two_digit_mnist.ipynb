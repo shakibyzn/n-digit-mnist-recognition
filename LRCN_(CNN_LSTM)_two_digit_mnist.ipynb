{
  "nbformat": 4,
  "nbformat_minor": 0,
  "metadata": {
    "colab": {
      "name": "LRCN (CNN-LSTM) - two-digit-mnist.ipynb",
      "provenance": [],
      "collapsed_sections": []
    },
    "kernelspec": {
      "name": "python3",
      "display_name": "Python 3"
    },
    "accelerator": "GPU"
  },
  "cells": [
    {
      "cell_type": "markdown",
      "metadata": {
        "id": "SE8ipjHXO_F3",
        "colab_type": "text"
      },
      "source": [
        "### Import libraries"
      ]
    },
    {
      "cell_type": "code",
      "metadata": {
        "id": "lUQlzSWNIZKe",
        "colab_type": "code",
        "colab": {}
      },
      "source": [
        "import random\n",
        "\n",
        "import numpy as np\n",
        "from skimage.transform import resize\n",
        "\n",
        "from keras.datasets import mnist\n",
        "from keras.utils import np_utils\n",
        "\n",
        "import matplotlib.pyplot as plt\n",
        "plt.style.use('ggplot')"
      ],
      "execution_count": null,
      "outputs": []
    },
    {
      "cell_type": "markdown",
      "metadata": {
        "id": "sBf6yylnPJaG",
        "colab_type": "text"
      },
      "source": [
        "### Load MNIST"
      ]
    },
    {
      "cell_type": "code",
      "metadata": {
        "id": "J9HpF25SIj8o",
        "colab_type": "code",
        "colab": {
          "base_uri": "https://localhost:8080/",
          "height": 53
        },
        "outputId": "7fc9d839-35c8-4e2f-bd97-e36c9cc9d6ee"
      },
      "source": [
        "\n",
        "mnist_img_height , mnist_img_width = 28 , 28\n",
        "(x_train,y_train), (x_test, y_test) = mnist.load_data()"
      ],
      "execution_count": null,
      "outputs": [
        {
          "output_type": "stream",
          "text": [
            "Downloading data from https://s3.amazonaws.com/img-datasets/mnist.npz\n",
            "11493376/11490434 [==============================] - 2s 0us/step\n"
          ],
          "name": "stdout"
        }
      ]
    },
    {
      "cell_type": "code",
      "metadata": {
        "id": "GaaXaeD8IoWH",
        "colab_type": "code",
        "colab": {
          "base_uri": "https://localhost:8080/",
          "height": 53
        },
        "outputId": "4c74e0d4-019f-4a1f-d31c-bfbb0222e139"
      },
      "source": [
        "print(f\"Number of train images:{x_train.shape[0]}\")\n",
        "print(f\"Number of test images:{x_test.shape[0]}\")"
      ],
      "execution_count": null,
      "outputs": [
        {
          "output_type": "stream",
          "text": [
            "Number of train images:60000\n",
            "Number of test images:10000\n"
          ],
          "name": "stdout"
        }
      ]
    },
    {
      "cell_type": "markdown",
      "metadata": {
        "id": "gi4MH0t_JMPQ",
        "colab_type": "text"
      },
      "source": [
        "### Build two-digit mnist sequences "
      ]
    },
    {
      "cell_type": "code",
      "metadata": {
        "id": "IEo7zjLwJOVf",
        "colab_type": "code",
        "colab": {}
      },
      "source": [
        "def build_sequence_mnist(data,labels,dataset_size,IS_TRAIN=True):\n",
        "    \n",
        "    # sequence data size\n",
        "    seq_img_height = 64\n",
        "    seq_img_width = 64\n",
        "    \n",
        "    seq_data = np.ndarray(shape=(dataset_size,seq_img_height,seq_img_width),\n",
        "                           dtype=np.float32)\n",
        "    seq_labels = [] \n",
        "    \n",
        "    for i in range(0,dataset_size):\n",
        "        \n",
        "        #Pick a random number of digits to be in the dataset\n",
        "        # num_digits = random.randint(1,2)\n",
        "        \n",
        "        s_indices = [random.randint(0,len(data)-1) for p in range(0,2)]\n",
        "\n",
        "        if IS_TRAIN:\n",
        "          # concatenating images and labels together\n",
        "          new_image = np.hstack([x_train[index] for index in s_indices])\n",
        "          new_label =  [y_train[index] for index in s_indices]\n",
        "        else:\n",
        "\n",
        "          new_image = np.hstack([x_test[index] for index in s_indices])\n",
        "          new_label =  [y_test[index] for index in s_indices]\n",
        "        \n",
        "        \n",
        "        #Resize image\n",
        "        new_image = resize(new_image,(seq_img_height,seq_img_width))\n",
        "        \n",
        "        seq_data[i,:,:] = new_image\n",
        "        seq_labels.append(tuple(new_label))\n",
        "        \n",
        "    \n",
        "    #Return the synthetic dataset\n",
        "    return seq_data,seq_labels\n"
      ],
      "execution_count": null,
      "outputs": []
    },
    {
      "cell_type": "code",
      "metadata": {
        "id": "J7-CO7tXKyOQ",
        "colab_type": "code",
        "colab": {}
      },
      "source": [
        "x_seq_train,y_seq_train = build_sequence_mnist(x_train,y_train,60000)\n",
        "x_seq_test,y_seq_test = build_sequence_mnist(x_test,y_test,10000,IS_TRAIN=False)"
      ],
      "execution_count": null,
      "outputs": []
    },
    {
      "cell_type": "code",
      "metadata": {
        "id": "IOE49QEmLzCZ",
        "colab_type": "code",
        "colab": {
          "base_uri": "https://localhost:8080/",
          "height": 282
        },
        "outputId": "5e3c4433-9d50-4bdc-a76a-2c1bf5df72f7"
      },
      "source": [
        "RANDOM_IMG_TO_SHOW = 2\n",
        "plt.figure()\n",
        "plt.imshow(x_seq_test[RANDOM_IMG_TO_SHOW], cmap='gray')\n",
        "plt.title(\"Labeled as: {}\".format(''.join(str(i) for i in y_seq_test[RANDOM_IMG_TO_SHOW])))\n",
        "plt.grid(b=None)\n",
        "plt.show()"
      ],
      "execution_count": null,
      "outputs": [
        {
          "output_type": "display_data",
          "data": {
            "image/png": "[encoded data removed]",
            "text/plain": [
              "<Figure size 432x288 with 1 Axes>"
            ]
          },
          "metadata": {
            "tags": []
          }
        }
      ]
    },
    {
      "cell_type": "markdown",
      "metadata": {
        "id": "Xcht9iebXJeT",
        "colab_type": "text"
      },
      "source": [
        "### One-Hot encoding"
      ]
    },
    {
      "cell_type": "code",
      "metadata": {
        "id": "xbajoq1gXVMt",
        "colab_type": "code",
        "colab": {}
      },
      "source": [
        "#Converting labels to One-hot representations of shape (set_size,digits,classes)\n",
        "possible_classes = 10\n",
        "\n",
        "def convert_labels(labels):\n",
        "        \n",
        "    #Declare output ndarrays\n",
        "    dig0_arr = np.ndarray(shape=(len(labels),possible_classes))\n",
        "    dig1_arr = np.ndarray(shape=(len(labels),possible_classes))\n",
        "\n",
        "    \n",
        "    for index,label in enumerate(labels):\n",
        "        \n",
        "        dig0_arr[index,:] = np_utils.to_categorical(label[0],possible_classes)\n",
        "        dig1_arr[index,:] = np_utils.to_categorical(label[1],possible_classes)\n",
        "        \n",
        "    return [dig0_arr,dig1_arr]"
      ],
      "execution_count": null,
      "outputs": []
    },
    {
      "cell_type": "code",
      "metadata": {
        "id": "voq2ld3CXwha",
        "colab_type": "code",
        "colab": {}
      },
      "source": [
        "train_labels = convert_labels(y_seq_train)\n",
        "test_labels = convert_labels(y_seq_test)"
      ],
      "execution_count": null,
      "outputs": []
    },
    {
      "cell_type": "code",
      "metadata": {
        "id": "OLJmhQrYPpVe",
        "colab_type": "code",
        "colab": {
          "base_uri": "https://localhost:8080/",
          "height": 35
        },
        "outputId": "312efd2d-dc66-4daf-c567-94620d31cd44"
      },
      "source": [
        "np.shape(test_labels[0])"
      ],
      "execution_count": null,
      "outputs": [
        {
          "output_type": "execute_result",
          "data": {
            "text/plain": [
              "(10000, 10)"
            ]
          },
          "metadata": {
            "tags": []
          },
          "execution_count": 9
        }
      ]
    },
    {
      "cell_type": "markdown",
      "metadata": {
        "id": "wY3NHcsto0iZ",
        "colab_type": "text"
      },
      "source": [
        "### Second Model --> LRCN (CNN-LSTM)"
      ]
    },
    {
      "cell_type": "code",
      "metadata": {
        "id": "XhwNcNBAo5ik",
        "colab_type": "code",
        "colab": {
          "base_uri": "https://localhost:8080/",
          "height": 707
        },
        "outputId": "afdc31b5-1dc4-4b56-f4d9-4c314683d9dd"
      },
      "source": [
        "from keras import  applications\n",
        "from keras.models import Sequential\n",
        "from keras.layers import Conv2D, MaxPooling2D, Flatten, BatchNormalization, Lambda\n",
        "\n",
        "nb_classes = 10\n",
        "\n",
        "img_rows = 64\n",
        "img_cols = 64\n",
        "img_channels = 1\n",
        "\n",
        "#number of convulation filters to use\n",
        "nb_filters = 32\n",
        "# size of pooling area for max pooling\n",
        "pool_size = (2, 2)\n",
        "# convolution kernel size\n",
        "kernel_size = (3, 3)\n",
        "\n",
        "#defining the input\n",
        "inputs = Input(shape=(None,img_rows,img_cols,img_channels))\n",
        "\n",
        "#Model taken from keras example. Worked well for a digit, dunno for multiple\n",
        "cov = TimeDistributed(Conv2D(nb_filters,kernel_size,padding='same'))(inputs)\n",
        "cov = TimeDistributed(Activation('relu'))(cov)\n",
        "cov = TimeDistributed(BatchNormalization())(cov)\n",
        "cov = TimeDistributed(Conv2D(nb_filters,kernel_size))(cov)\n",
        "cov = TimeDistributed(Activation('relu'))(cov)\n",
        "cov = TimeDistributed(BatchNormalization())(cov)\n",
        "cov = TimeDistributed(MaxPooling2D(pool_size=pool_size))(cov)\n",
        "cov = TimeDistributed(Dropout(0.25))(cov)\n",
        "cov_out = TimeDistributed(Flatten())(cov)\n",
        "\n",
        "# return_sequences = true -> to share output of lstm to all dense layers\n",
        "encoded_vid = LSTM(64,return_sequences=True)(cov_out)\n",
        "encoded_vid = TimeDistributed(Dense(32, activation='relu'))(encoded_vid)\n",
        "encoded_vid = Dropout(0.25)(encoded_vid)\n",
        "\n",
        "#Prediction layers\n",
        "c0 = TimeDistributed(Dense(nb_classes, activation='softmax'),name='digit1')(encoded_vid)\n",
        "c1 = TimeDistributed(Dense(nb_classes, activation='softmax'),name='digit2')(encoded_vid)\n",
        "\n",
        "model = Model(inputs=[inputs],outputs=[c0,c1], name='custom-cnn-lstm')\n",
        "model.compile(optimizer='adam',loss='categorical_crossentropy',metrics=['acc'])\n",
        "model.summary()"
      ],
      "execution_count": null,
      "outputs": [
        {
          "output_type": "stream",
          "text": [
            "Model: \"custom-cnn-lstm\"\n",
            "__________________________________________________________________________________________________\n",
            "Layer (type)                    Output Shape         Param #     Connected to                     \n",
            "==================================================================================================\n",
            "input_2 (InputLayer)            (None, None, 64, 64, 0                                            \n",
            "__________________________________________________________________________________________________\n",
            "time_distributed_1 (TimeDistrib (None, None, 64, 64, 320         input_2[0][0]                    \n",
            "__________________________________________________________________________________________________\n",
            "time_distributed_2 (TimeDistrib (None, None, 64, 64, 0           time_distributed_1[0][0]         \n",
            "__________________________________________________________________________________________________\n",
            "time_distributed_3 (TimeDistrib (None, None, 64, 64, 128         time_distributed_2[0][0]         \n",
            "__________________________________________________________________________________________________\n",
            "time_distributed_4 (TimeDistrib (None, None, 62, 62, 9248        time_distributed_3[0][0]         \n",
            "__________________________________________________________________________________________________\n",
            "time_distributed_5 (TimeDistrib (None, None, 62, 62, 0           time_distributed_4[0][0]         \n",
            "__________________________________________________________________________________________________\n",
            "time_distributed_6 (TimeDistrib (None, None, 62, 62, 128         time_distributed_5[0][0]         \n",
            "__________________________________________________________________________________________________\n",
            "time_distributed_7 (TimeDistrib (None, None, 31, 31, 0           time_distributed_6[0][0]         \n",
            "__________________________________________________________________________________________________\n",
            "time_distributed_8 (TimeDistrib (None, None, 31, 31, 0           time_distributed_7[0][0]         \n",
            "__________________________________________________________________________________________________\n",
            "time_distributed_9 (TimeDistrib (None, None, 30752)  0           time_distributed_8[0][0]         \n",
            "__________________________________________________________________________________________________\n",
            "lstm_1 (LSTM)                   (None, None, 64)     7889152     time_distributed_9[0][0]         \n",
            "__________________________________________________________________________________________________\n",
            "time_distributed_10 (TimeDistri (None, None, 32)     2080        lstm_1[0][0]                     \n",
            "__________________________________________________________________________________________________\n",
            "dropout_4 (Dropout)             (None, None, 32)     0           time_distributed_10[0][0]        \n",
            "__________________________________________________________________________________________________\n",
            "digit1 (TimeDistributed)        (None, None, 10)     330         dropout_4[0][0]                  \n",
            "__________________________________________________________________________________________________\n",
            "digit2 (TimeDistributed)        (None, None, 10)     330         dropout_4[0][0]                  \n",
            "==================================================================================================\n",
            "Total params: 7,901,716\n",
            "Trainable params: 7,901,588\n",
            "Non-trainable params: 128\n",
            "__________________________________________________________________________________________________\n"
          ],
          "name": "stdout"
        }
      ]
    },
    {
      "cell_type": "markdown",
      "metadata": {
        "id": "PvZ9tiPfoSc1",
        "colab_type": "text"
      },
      "source": [
        "### Prepare Data"
      ]
    },
    {
      "cell_type": "code",
      "metadata": {
        "id": "BNT6JXd4oTy1",
        "colab_type": "code",
        "colab": {
          "base_uri": "https://localhost:8080/",
          "height": 35
        },
        "outputId": "3e223273-b4f0-4aec-9c05-2f2bcd2db273"
      },
      "source": [
        "def prep_data_keras(img_data):\n",
        "    \n",
        "    ### 10 refers to time_steps\n",
        "    img_data = img_data.reshape(len(img_data)//10,10,64,64,1)\n",
        "    img_data = img_data.astype('float32')\n",
        "    img_data /= 255.0\n",
        "    \n",
        "    return img_data\n",
        "\n",
        "train_images = prep_data_keras(x_seq_train)\n",
        "test_images = prep_data_keras(x_seq_test)\n",
        "print(f\"Test Image Shape: {test_images.shape}\")"
      ],
      "execution_count": null,
      "outputs": [
        {
          "output_type": "stream",
          "text": [
            "Train Image Shape: (1000, 10, 64, 64, 1)\n"
          ],
          "name": "stdout"
        }
      ]
    },
    {
      "cell_type": "code",
      "metadata": {
        "id": "Gh7G6V8D5uBP",
        "colab_type": "code",
        "colab": {}
      },
      "source": [
        "train_labels[0] = train_labels[0].reshape(6000,10,10)\n",
        "train_labels[1] = train_labels[1].reshape(6000,10,10)"
      ],
      "execution_count": null,
      "outputs": []
    },
    {
      "cell_type": "markdown",
      "metadata": {
        "id": "RW7yO7RKW_OM",
        "colab_type": "text"
      },
      "source": [
        "### Define callbacks and call model.fit()"
      ]
    },
    {
      "cell_type": "code",
      "metadata": {
        "id": "FjUIChSFpB3F",
        "colab_type": "code",
        "colab": {
          "base_uri": "https://localhost:8080/",
          "height": 1000
        },
        "outputId": "abb57078-c6c5-4aed-fb29-9d111e5fc532"
      },
      "source": [
        "from keras.callbacks import ModelCheckpoint, LearningRateScheduler, EarlyStopping\n",
        "import numpy as np\n",
        "\n",
        "save_dir = 'two-digit-custom-model-test3-with-cnn-lstm.h5'\n",
        "model_checkpoint = ModelCheckpoint(save_dir, \n",
        "\t\t\t\t\t\t\tmonitor='val_loss', verbose=1, \n",
        "\t\t\t\t\t\t\tsave_best_only=True, mode='min')\n",
        "\n",
        "lr_sched = LearningRateScheduler(lambda epoch: 1e-4 * (0.75 ** np.floor(epoch / 2)))\n",
        "\n",
        "early = EarlyStopping(monitor='val_loss', patience=5, mode='min', verbose=1)\n",
        "                      \n",
        "hist = model.fit(train_images,train_labels,batch_size=32,epochs=50,verbose=2,validation_split=0.2, callbacks=[model_checkpoint, lr_sched, early])"
      ],
      "execution_count": null,
      "outputs": [
        {
          "output_type": "stream",
          "text": [
            "Train on 4800 samples, validate on 1200 samples\n",
            "Epoch 1/50\n",
            " - 47s - loss: 2.9499 - digit1_loss: 1.4665 - digit2_loss: 1.4833 - digit1_acc: 0.5384 - digit2_acc: 0.5351 - val_loss: 4.5822 - val_digit1_loss: 2.2911 - val_digit2_loss: 2.2911 - val_digit1_acc: 0.2533 - val_digit2_acc: 0.1524\n",
            "\n",
            "Epoch 00001: val_loss improved from inf to 4.58222, saving model to two-digit-custom-model-test3-with-cnn-lstm.h5\n",
            "Epoch 2/50\n",
            " - 40s - loss: 2.0619 - digit1_loss: 1.0101 - digit2_loss: 1.0518 - digit1_acc: 0.7265 - digit2_acc: 0.7059 - val_loss: 4.5332 - val_digit1_loss: 2.2676 - val_digit2_loss: 2.2655 - val_digit1_acc: 0.1525 - val_digit2_acc: 0.1780\n",
            "\n",
            "Epoch 00002: val_loss improved from 4.58222 to 4.53317, saving model to two-digit-custom-model-test3-with-cnn-lstm.h5\n",
            "Epoch 3/50\n",
            " - 40s - loss: 1.6838 - digit1_loss: 0.8255 - digit2_loss: 0.8583 - digit1_acc: 0.7893 - digit2_acc: 0.7754 - val_loss: 4.3148 - val_digit1_loss: 2.1575 - val_digit2_loss: 2.1573 - val_digit1_acc: 0.1667 - val_digit2_acc: 0.1777\n",
            "\n",
            "Epoch 00003: val_loss improved from 4.53317 to 4.31484, saving model to two-digit-custom-model-test3-with-cnn-lstm.h5\n",
            "Epoch 4/50\n",
            " - 40s - loss: 1.4573 - digit1_loss: 0.7076 - digit2_loss: 0.7497 - digit1_acc: 0.8234 - digit2_acc: 0.8082 - val_loss: 2.3554 - val_digit1_loss: 1.1861 - val_digit2_loss: 1.1695 - val_digit1_acc: 0.7442 - val_digit2_acc: 0.6925\n",
            "\n",
            "Epoch 00004: val_loss improved from 4.31484 to 2.35544, saving model to two-digit-custom-model-test3-with-cnn-lstm.h5\n",
            "Epoch 5/50\n",
            " - 40s - loss: 1.2772 - digit1_loss: 0.6220 - digit2_loss: 0.6552 - digit1_acc: 0.8500 - digit2_acc: 0.8370 - val_loss: 0.9798 - val_digit1_loss: 0.4844 - val_digit2_loss: 0.4955 - val_digit1_acc: 0.9351 - val_digit2_acc: 0.9284\n",
            "\n",
            "Epoch 00005: val_loss improved from 2.35544 to 0.97975, saving model to two-digit-custom-model-test3-with-cnn-lstm.h5\n",
            "Epoch 6/50\n",
            " - 40s - loss: 1.1648 - digit1_loss: 0.5664 - digit2_loss: 0.5984 - digit1_acc: 0.8621 - digit2_acc: 0.8518 - val_loss: 0.7610 - val_digit1_loss: 0.3640 - val_digit2_loss: 0.3975 - val_digit1_acc: 0.9463 - val_digit2_acc: 0.9433\n",
            "\n",
            "Epoch 00006: val_loss improved from 0.97975 to 0.76099, saving model to two-digit-custom-model-test3-with-cnn-lstm.h5\n",
            "Epoch 7/50\n",
            " - 40s - loss: 1.0739 - digit1_loss: 0.5243 - digit2_loss: 0.5495 - digit1_acc: 0.8717 - digit2_acc: 0.8663 - val_loss: 0.6552 - val_digit1_loss: 0.3095 - val_digit2_loss: 0.3461 - val_digit1_acc: 0.9573 - val_digit2_acc: 0.9492\n",
            "\n",
            "Epoch 00007: val_loss improved from 0.76099 to 0.65515, saving model to two-digit-custom-model-test3-with-cnn-lstm.h5\n",
            "Epoch 8/50\n",
            " - 40s - loss: 1.0068 - digit1_loss: 0.4882 - digit2_loss: 0.5186 - digit1_acc: 0.8810 - digit2_acc: 0.8732 - val_loss: 0.5976 - val_digit1_loss: 0.2848 - val_digit2_loss: 0.3133 - val_digit1_acc: 0.9588 - val_digit2_acc: 0.9554\n",
            "\n",
            "Epoch 00008: val_loss improved from 0.65515 to 0.59762, saving model to two-digit-custom-model-test3-with-cnn-lstm.h5\n",
            "Epoch 9/50\n",
            " - 40s - loss: 0.9526 - digit1_loss: 0.4647 - digit2_loss: 0.4880 - digit1_acc: 0.8878 - digit2_acc: 0.8829 - val_loss: 0.5591 - val_digit1_loss: 0.2654 - val_digit2_loss: 0.2941 - val_digit1_acc: 0.9617 - val_digit2_acc: 0.9583\n",
            "\n",
            "Epoch 00009: val_loss improved from 0.59762 to 0.55908, saving model to two-digit-custom-model-test3-with-cnn-lstm.h5\n",
            "Epoch 10/50\n",
            " - 40s - loss: 0.9135 - digit1_loss: 0.4443 - digit2_loss: 0.4692 - digit1_acc: 0.8917 - digit2_acc: 0.8867 - val_loss: 0.5227 - val_digit1_loss: 0.2486 - val_digit2_loss: 0.2746 - val_digit1_acc: 0.9636 - val_digit2_acc: 0.9599\n",
            "\n",
            "Epoch 00010: val_loss improved from 0.55908 to 0.52274, saving model to two-digit-custom-model-test3-with-cnn-lstm.h5\n",
            "Epoch 11/50\n",
            " - 40s - loss: 0.8787 - digit1_loss: 0.4261 - digit2_loss: 0.4526 - digit1_acc: 0.8979 - digit2_acc: 0.8919 - val_loss: 0.4962 - val_digit1_loss: 0.2357 - val_digit2_loss: 0.2610 - val_digit1_acc: 0.9643 - val_digit2_acc: 0.9601\n",
            "\n",
            "Epoch 00011: val_loss improved from 0.52274 to 0.49618, saving model to two-digit-custom-model-test3-with-cnn-lstm.h5\n",
            "Epoch 12/50\n",
            " - 40s - loss: 0.8561 - digit1_loss: 0.4192 - digit2_loss: 0.4369 - digit1_acc: 0.8988 - digit2_acc: 0.8955 - val_loss: 0.4758 - val_digit1_loss: 0.2261 - val_digit2_loss: 0.2501 - val_digit1_acc: 0.9646 - val_digit2_acc: 0.9623\n",
            "\n",
            "Epoch 00012: val_loss improved from 0.49618 to 0.47581, saving model to two-digit-custom-model-test3-with-cnn-lstm.h5\n",
            "Epoch 13/50\n",
            " - 40s - loss: 0.8222 - digit1_loss: 0.3998 - digit2_loss: 0.4224 - digit1_acc: 0.9035 - digit2_acc: 0.8993 - val_loss: 0.4595 - val_digit1_loss: 0.2176 - val_digit2_loss: 0.2423 - val_digit1_acc: 0.9656 - val_digit2_acc: 0.9629\n",
            "\n",
            "Epoch 00013: val_loss improved from 0.47581 to 0.45949, saving model to two-digit-custom-model-test3-with-cnn-lstm.h5\n",
            "Epoch 14/50\n",
            " - 40s - loss: 0.8007 - digit1_loss: 0.3891 - digit2_loss: 0.4117 - digit1_acc: 0.9055 - digit2_acc: 0.9023 - val_loss: 0.4486 - val_digit1_loss: 0.2123 - val_digit2_loss: 0.2365 - val_digit1_acc: 0.9675 - val_digit2_acc: 0.9645\n",
            "\n",
            "Epoch 00014: val_loss improved from 0.45949 to 0.44857, saving model to two-digit-custom-model-test3-with-cnn-lstm.h5\n",
            "Epoch 15/50\n",
            " - 40s - loss: 0.7878 - digit1_loss: 0.3837 - digit2_loss: 0.4042 - digit1_acc: 0.9066 - digit2_acc: 0.9023 - val_loss: 0.4361 - val_digit1_loss: 0.2070 - val_digit2_loss: 0.2294 - val_digit1_acc: 0.9678 - val_digit2_acc: 0.9642\n",
            "\n",
            "Epoch 00015: val_loss improved from 0.44857 to 0.43609, saving model to two-digit-custom-model-test3-with-cnn-lstm.h5\n",
            "Epoch 16/50\n",
            " - 40s - loss: 0.7686 - digit1_loss: 0.3745 - digit2_loss: 0.3941 - digit1_acc: 0.9096 - digit2_acc: 0.9081 - val_loss: 0.4185 - val_digit1_loss: 0.1997 - val_digit2_loss: 0.2192 - val_digit1_acc: 0.9680 - val_digit2_acc: 0.9650\n",
            "\n",
            "Epoch 00016: val_loss improved from 0.43609 to 0.41848, saving model to two-digit-custom-model-test3-with-cnn-lstm.h5\n",
            "Epoch 17/50\n",
            " - 40s - loss: 0.7656 - digit1_loss: 0.3732 - digit2_loss: 0.3924 - digit1_acc: 0.9091 - digit2_acc: 0.9054 - val_loss: 0.4142 - val_digit1_loss: 0.1962 - val_digit2_loss: 0.2183 - val_digit1_acc: 0.9679 - val_digit2_acc: 0.9653\n",
            "\n",
            "Epoch 00017: val_loss improved from 0.41848 to 0.41419, saving model to two-digit-custom-model-test3-with-cnn-lstm.h5\n",
            "Epoch 18/50\n",
            " - 40s - loss: 0.7438 - digit1_loss: 0.3626 - digit2_loss: 0.3812 - digit1_acc: 0.9119 - digit2_acc: 0.9092 - val_loss: 0.4066 - val_digit1_loss: 0.1933 - val_digit2_loss: 0.2137 - val_digit1_acc: 0.9688 - val_digit2_acc: 0.9663\n",
            "\n",
            "Epoch 00018: val_loss improved from 0.41419 to 0.40661, saving model to two-digit-custom-model-test3-with-cnn-lstm.h5\n",
            "Epoch 19/50\n",
            " - 40s - loss: 0.7417 - digit1_loss: 0.3606 - digit2_loss: 0.3811 - digit1_acc: 0.9104 - digit2_acc: 0.9086 - val_loss: 0.3992 - val_digit1_loss: 0.1888 - val_digit2_loss: 0.2108 - val_digit1_acc: 0.9684 - val_digit2_acc: 0.9663\n",
            "\n",
            "Epoch 00019: val_loss improved from 0.40661 to 0.39921, saving model to two-digit-custom-model-test3-with-cnn-lstm.h5\n",
            "Epoch 20/50\n",
            " - 40s - loss: 0.7324 - digit1_loss: 0.3568 - digit2_loss: 0.3756 - digit1_acc: 0.9141 - digit2_acc: 0.9105 - val_loss: 0.3948 - val_digit1_loss: 0.1872 - val_digit2_loss: 0.2080 - val_digit1_acc: 0.9687 - val_digit2_acc: 0.9663\n",
            "\n",
            "Epoch 00020: val_loss improved from 0.39921 to 0.39485, saving model to two-digit-custom-model-test3-with-cnn-lstm.h5\n",
            "Epoch 21/50\n",
            " - 40s - loss: 0.7291 - digit1_loss: 0.3551 - digit2_loss: 0.3740 - digit1_acc: 0.9139 - digit2_acc: 0.9110 - val_loss: 0.3902 - val_digit1_loss: 0.1849 - val_digit2_loss: 0.2056 - val_digit1_acc: 0.9696 - val_digit2_acc: 0.9667\n",
            "\n",
            "Epoch 00021: val_loss improved from 0.39485 to 0.39015, saving model to two-digit-custom-model-test3-with-cnn-lstm.h5\n",
            "Epoch 22/50\n",
            " - 40s - loss: 0.7216 - digit1_loss: 0.3515 - digit2_loss: 0.3701 - digit1_acc: 0.9150 - digit2_acc: 0.9122 - val_loss: 0.3866 - val_digit1_loss: 0.1831 - val_digit2_loss: 0.2038 - val_digit1_acc: 0.9689 - val_digit2_acc: 0.9667\n",
            "\n",
            "Epoch 00022: val_loss improved from 0.39015 to 0.38657, saving model to two-digit-custom-model-test3-with-cnn-lstm.h5\n",
            "Epoch 23/50\n",
            " - 40s - loss: 0.7159 - digit1_loss: 0.3480 - digit2_loss: 0.3679 - digit1_acc: 0.9156 - digit2_acc: 0.9106 - val_loss: 0.3822 - val_digit1_loss: 0.1808 - val_digit2_loss: 0.2017 - val_digit1_acc: 0.9696 - val_digit2_acc: 0.9669\n",
            "\n",
            "Epoch 00023: val_loss improved from 0.38657 to 0.38215, saving model to two-digit-custom-model-test3-with-cnn-lstm.h5\n",
            "Epoch 24/50\n",
            " - 40s - loss: 0.7103 - digit1_loss: 0.3468 - digit2_loss: 0.3635 - digit1_acc: 0.9162 - digit2_acc: 0.9151 - val_loss: 0.3800 - val_digit1_loss: 0.1801 - val_digit2_loss: 0.2002 - val_digit1_acc: 0.9696 - val_digit2_acc: 0.9676\n",
            "\n",
            "Epoch 00024: val_loss improved from 0.38215 to 0.37997, saving model to two-digit-custom-model-test3-with-cnn-lstm.h5\n",
            "Epoch 25/50\n",
            " - 40s - loss: 0.7105 - digit1_loss: 0.3471 - digit2_loss: 0.3634 - digit1_acc: 0.9148 - digit2_acc: 0.9135 - val_loss: 0.3773 - val_digit1_loss: 0.1790 - val_digit2_loss: 0.1986 - val_digit1_acc: 0.9692 - val_digit2_acc: 0.9671\n",
            "\n",
            "Epoch 00025: val_loss improved from 0.37997 to 0.37727, saving model to two-digit-custom-model-test3-with-cnn-lstm.h5\n",
            "Epoch 26/50\n",
            " - 40s - loss: 0.7018 - digit1_loss: 0.3411 - digit2_loss: 0.3607 - digit1_acc: 0.9173 - digit2_acc: 0.9134 - val_loss: 0.3749 - val_digit1_loss: 0.1781 - val_digit2_loss: 0.1972 - val_digit1_acc: 0.9696 - val_digit2_acc: 0.9672\n",
            "\n",
            "Epoch 00026: val_loss improved from 0.37727 to 0.37488, saving model to two-digit-custom-model-test3-with-cnn-lstm.h5\n",
            "Epoch 27/50\n",
            " - 40s - loss: 0.7072 - digit1_loss: 0.3472 - digit2_loss: 0.3600 - digit1_acc: 0.9133 - digit2_acc: 0.9136 - val_loss: 0.3732 - val_digit1_loss: 0.1768 - val_digit2_loss: 0.1967 - val_digit1_acc: 0.9701 - val_digit2_acc: 0.9675\n",
            "\n",
            "Epoch 00027: val_loss improved from 0.37488 to 0.37317, saving model to two-digit-custom-model-test3-with-cnn-lstm.h5\n",
            "Epoch 28/50\n",
            " - 40s - loss: 0.7017 - digit1_loss: 0.3435 - digit2_loss: 0.3582 - digit1_acc: 0.9143 - digit2_acc: 0.9150 - val_loss: 0.3720 - val_digit1_loss: 0.1764 - val_digit2_loss: 0.1960 - val_digit1_acc: 0.9699 - val_digit2_acc: 0.9678\n",
            "\n",
            "Epoch 00028: val_loss improved from 0.37317 to 0.37199, saving model to two-digit-custom-model-test3-with-cnn-lstm.h5\n",
            "Epoch 29/50\n",
            " - 40s - loss: 0.6945 - digit1_loss: 0.3378 - digit2_loss: 0.3567 - digit1_acc: 0.9178 - digit2_acc: 0.9158 - val_loss: 0.3702 - val_digit1_loss: 0.1756 - val_digit2_loss: 0.1949 - val_digit1_acc: 0.9695 - val_digit2_acc: 0.9677\n",
            "\n",
            "Epoch 00029: val_loss improved from 0.37199 to 0.37021, saving model to two-digit-custom-model-test3-with-cnn-lstm.h5\n",
            "Epoch 30/50\n",
            " - 40s - loss: 0.6991 - digit1_loss: 0.3379 - digit2_loss: 0.3612 - digit1_acc: 0.9177 - digit2_acc: 0.9136 - val_loss: 0.3690 - val_digit1_loss: 0.1749 - val_digit2_loss: 0.1944 - val_digit1_acc: 0.9700 - val_digit2_acc: 0.9682\n",
            "\n",
            "Epoch 00030: val_loss improved from 0.37021 to 0.36901, saving model to two-digit-custom-model-test3-with-cnn-lstm.h5\n",
            "Epoch 31/50\n",
            " - 40s - loss: 0.6925 - digit1_loss: 0.3359 - digit2_loss: 0.3565 - digit1_acc: 0.9171 - digit2_acc: 0.9150 - val_loss: 0.3686 - val_digit1_loss: 0.1745 - val_digit2_loss: 0.1943 - val_digit1_acc: 0.9703 - val_digit2_acc: 0.9680\n",
            "\n",
            "Epoch 00031: val_loss improved from 0.36901 to 0.36856, saving model to two-digit-custom-model-test3-with-cnn-lstm.h5\n",
            "Epoch 32/50\n",
            " - 40s - loss: 0.6949 - digit1_loss: 0.3364 - digit2_loss: 0.3585 - digit1_acc: 0.9189 - digit2_acc: 0.9140 - val_loss: 0.3670 - val_digit1_loss: 0.1741 - val_digit2_loss: 0.1933 - val_digit1_acc: 0.9699 - val_digit2_acc: 0.9680\n",
            "\n",
            "Epoch 00032: val_loss improved from 0.36856 to 0.36700, saving model to two-digit-custom-model-test3-with-cnn-lstm.h5\n",
            "Epoch 33/50\n",
            " - 40s - loss: 0.6933 - digit1_loss: 0.3362 - digit2_loss: 0.3571 - digit1_acc: 0.9178 - digit2_acc: 0.9137 - val_loss: 0.3668 - val_digit1_loss: 0.1739 - val_digit2_loss: 0.1932 - val_digit1_acc: 0.9699 - val_digit2_acc: 0.9678\n",
            "\n",
            "Epoch 00033: val_loss improved from 0.36700 to 0.36676, saving model to two-digit-custom-model-test3-with-cnn-lstm.h5\n",
            "Epoch 34/50\n",
            " - 40s - loss: 0.6933 - digit1_loss: 0.3394 - digit2_loss: 0.3539 - digit1_acc: 0.9161 - digit2_acc: 0.9149 - val_loss: 0.3659 - val_digit1_loss: 0.1734 - val_digit2_loss: 0.1928 - val_digit1_acc: 0.9701 - val_digit2_acc: 0.9678\n",
            "\n",
            "Epoch 00034: val_loss improved from 0.36676 to 0.36589, saving model to two-digit-custom-model-test3-with-cnn-lstm.h5\n",
            "Epoch 35/50\n",
            " - 40s - loss: 0.6891 - digit1_loss: 0.3366 - digit2_loss: 0.3525 - digit1_acc: 0.9176 - digit2_acc: 0.9163 - val_loss: 0.3654 - val_digit1_loss: 0.1731 - val_digit2_loss: 0.1926 - val_digit1_acc: 0.9701 - val_digit2_acc: 0.9680\n",
            "\n",
            "Epoch 00035: val_loss improved from 0.36589 to 0.36541, saving model to two-digit-custom-model-test3-with-cnn-lstm.h5\n",
            "Epoch 36/50\n",
            " - 40s - loss: 0.6914 - digit1_loss: 0.3406 - digit2_loss: 0.3508 - digit1_acc: 0.9159 - digit2_acc: 0.9184 - val_loss: 0.3649 - val_digit1_loss: 0.1728 - val_digit2_loss: 0.1924 - val_digit1_acc: 0.9703 - val_digit2_acc: 0.9682\n",
            "\n",
            "Epoch 00036: val_loss improved from 0.36541 to 0.36492, saving model to two-digit-custom-model-test3-with-cnn-lstm.h5\n",
            "Epoch 37/50\n",
            " - 40s - loss: 0.6949 - digit1_loss: 0.3359 - digit2_loss: 0.3589 - digit1_acc: 0.9177 - digit2_acc: 0.9147 - val_loss: 0.3645 - val_digit1_loss: 0.1727 - val_digit2_loss: 0.1921 - val_digit1_acc: 0.9703 - val_digit2_acc: 0.9682\n",
            "\n",
            "Epoch 00037: val_loss improved from 0.36492 to 0.36452, saving model to two-digit-custom-model-test3-with-cnn-lstm.h5\n",
            "Epoch 38/50\n",
            " - 40s - loss: 0.6888 - digit1_loss: 0.3358 - digit2_loss: 0.3529 - digit1_acc: 0.9173 - digit2_acc: 0.9156 - val_loss: 0.3642 - val_digit1_loss: 0.1725 - val_digit2_loss: 0.1920 - val_digit1_acc: 0.9703 - val_digit2_acc: 0.9681\n",
            "\n",
            "Epoch 00038: val_loss improved from 0.36452 to 0.36422, saving model to two-digit-custom-model-test3-with-cnn-lstm.h5\n",
            "Epoch 39/50\n",
            " - 40s - loss: 0.6850 - digit1_loss: 0.3340 - digit2_loss: 0.3510 - digit1_acc: 0.9179 - digit2_acc: 0.9165 - val_loss: 0.3638 - val_digit1_loss: 0.1724 - val_digit2_loss: 0.1918 - val_digit1_acc: 0.9702 - val_digit2_acc: 0.9680\n",
            "\n",
            "Epoch 00039: val_loss improved from 0.36422 to 0.36383, saving model to two-digit-custom-model-test3-with-cnn-lstm.h5\n",
            "Epoch 40/50\n",
            " - 40s - loss: 0.6895 - digit1_loss: 0.3356 - digit2_loss: 0.3539 - digit1_acc: 0.9180 - digit2_acc: 0.9164 - val_loss: 0.3637 - val_digit1_loss: 0.1723 - val_digit2_loss: 0.1917 - val_digit1_acc: 0.9704 - val_digit2_acc: 0.9683\n",
            "\n",
            "Epoch 00040: val_loss improved from 0.36383 to 0.36367, saving model to two-digit-custom-model-test3-with-cnn-lstm.h5\n",
            "Epoch 41/50\n",
            " - 40s - loss: 0.6884 - digit1_loss: 0.3346 - digit2_loss: 0.3538 - digit1_acc: 0.9190 - digit2_acc: 0.9155 - val_loss: 0.3635 - val_digit1_loss: 0.1723 - val_digit2_loss: 0.1915 - val_digit1_acc: 0.9703 - val_digit2_acc: 0.9681\n",
            "\n",
            "Epoch 00041: val_loss improved from 0.36367 to 0.36347, saving model to two-digit-custom-model-test3-with-cnn-lstm.h5\n",
            "Epoch 42/50\n",
            " - 40s - loss: 0.6871 - digit1_loss: 0.3329 - digit2_loss: 0.3542 - digit1_acc: 0.9197 - digit2_acc: 0.9156 - val_loss: 0.3632 - val_digit1_loss: 0.1721 - val_digit2_loss: 0.1914 - val_digit1_acc: 0.9703 - val_digit2_acc: 0.9682\n",
            "\n",
            "Epoch 00042: val_loss improved from 0.36347 to 0.36324, saving model to two-digit-custom-model-test3-with-cnn-lstm.h5\n",
            "Epoch 43/50\n",
            " - 40s - loss: 0.6854 - digit1_loss: 0.3324 - digit2_loss: 0.3530 - digit1_acc: 0.9189 - digit2_acc: 0.9162 - val_loss: 0.3630 - val_digit1_loss: 0.1720 - val_digit2_loss: 0.1913 - val_digit1_acc: 0.9701 - val_digit2_acc: 0.9680\n",
            "\n",
            "Epoch 00043: val_loss improved from 0.36324 to 0.36295, saving model to two-digit-custom-model-test3-with-cnn-lstm.h5\n",
            "Epoch 44/50\n",
            " - 40s - loss: 0.6832 - digit1_loss: 0.3333 - digit2_loss: 0.3498 - digit1_acc: 0.9186 - digit2_acc: 0.9159 - val_loss: 0.3627 - val_digit1_loss: 0.1719 - val_digit2_loss: 0.1911 - val_digit1_acc: 0.9701 - val_digit2_acc: 0.9680\n",
            "\n",
            "Epoch 00044: val_loss improved from 0.36295 to 0.36268, saving model to two-digit-custom-model-test3-with-cnn-lstm.h5\n",
            "Epoch 45/50\n",
            " - 40s - loss: 0.6888 - digit1_loss: 0.3375 - digit2_loss: 0.3512 - digit1_acc: 0.9158 - digit2_acc: 0.9174 - val_loss: 0.3625 - val_digit1_loss: 0.1718 - val_digit2_loss: 0.1911 - val_digit1_acc: 0.9701 - val_digit2_acc: 0.9680\n",
            "\n",
            "Epoch 00045: val_loss improved from 0.36268 to 0.36253, saving model to two-digit-custom-model-test3-with-cnn-lstm.h5\n",
            "Epoch 46/50\n",
            " - 40s - loss: 0.6871 - digit1_loss: 0.3347 - digit2_loss: 0.3524 - digit1_acc: 0.9179 - digit2_acc: 0.9156 - val_loss: 0.3624 - val_digit1_loss: 0.1717 - val_digit2_loss: 0.1910 - val_digit1_acc: 0.9702 - val_digit2_acc: 0.9681\n",
            "\n",
            "Epoch 00046: val_loss improved from 0.36253 to 0.36241, saving model to two-digit-custom-model-test3-with-cnn-lstm.h5\n",
            "Epoch 47/50\n",
            " - 40s - loss: 0.6905 - digit1_loss: 0.3355 - digit2_loss: 0.3550 - digit1_acc: 0.9179 - digit2_acc: 0.9143 - val_loss: 0.3623 - val_digit1_loss: 0.1717 - val_digit2_loss: 0.1910 - val_digit1_acc: 0.9703 - val_digit2_acc: 0.9682\n",
            "\n",
            "Epoch 00047: val_loss improved from 0.36241 to 0.36232, saving model to two-digit-custom-model-test3-with-cnn-lstm.h5\n",
            "Epoch 48/50\n",
            " - 40s - loss: 0.6909 - digit1_loss: 0.3353 - digit2_loss: 0.3556 - digit1_acc: 0.9187 - digit2_acc: 0.9143 - val_loss: 0.3623 - val_digit1_loss: 0.1717 - val_digit2_loss: 0.1909 - val_digit1_acc: 0.9703 - val_digit2_acc: 0.9681\n",
            "\n",
            "Epoch 00048: val_loss improved from 0.36232 to 0.36226, saving model to two-digit-custom-model-test3-with-cnn-lstm.h5\n",
            "Epoch 49/50\n",
            " - 40s - loss: 0.6869 - digit1_loss: 0.3341 - digit2_loss: 0.3527 - digit1_acc: 0.9194 - digit2_acc: 0.9162 - val_loss: 0.3622 - val_digit1_loss: 0.1716 - val_digit2_loss: 0.1909 - val_digit1_acc: 0.9702 - val_digit2_acc: 0.9681\n",
            "\n",
            "Epoch 00049: val_loss improved from 0.36226 to 0.36219, saving model to two-digit-custom-model-test3-with-cnn-lstm.h5\n",
            "Epoch 50/50\n",
            " - 40s - loss: 0.6837 - digit1_loss: 0.3320 - digit2_loss: 0.3518 - digit1_acc: 0.9182 - digit2_acc: 0.9161 - val_loss: 0.3621 - val_digit1_loss: 0.1716 - val_digit2_loss: 0.1908 - val_digit1_acc: 0.9702 - val_digit2_acc: 0.9682\n",
            "\n",
            "Epoch 00050: val_loss improved from 0.36219 to 0.36209, saving model to two-digit-custom-model-test3-with-cnn-lstm.h5\n"
          ],
          "name": "stdout"
        }
      ]
    },
    {
      "cell_type": "markdown",
      "metadata": {
        "id": "hSs9CHhRhXY-",
        "colab_type": "text"
      },
      "source": [
        "### Model Visualization"
      ]
    },
    {
      "cell_type": "code",
      "metadata": {
        "id": "8Il0BKnlhaBC",
        "colab_type": "code",
        "colab": {
          "base_uri": "https://localhost:8080/",
          "height": 329
        },
        "outputId": "84b8c11d-1234-4773-bd94-b4204e3f9a75"
      },
      "source": [
        "def plot_accuracy_loss(history):\n",
        "    \"\"\"\n",
        "        Plot the accuracy and the loss during the training of the nn.\n",
        "    \"\"\"\n",
        "    fig = plt.figure(figsize=(16,10))\n",
        "\n",
        "    # Plot accuracy\n",
        "    plt.subplot(221)\n",
        "    plt.plot(hist.history['digit1_acc'],'bo--', label = \"digit1_acc\")\n",
        "    plt.plot(hist.history['val_digit1_acc'], 'ro--', label = \"val_digit1_acc\")\n",
        "    plt.title(\"digit1_acc vs val_digit1_acc\")\n",
        "    plt.ylabel(\"digit1_accuracy\")\n",
        "    plt.xlabel(\"epochs\")\n",
        "    plt.legend()\n",
        "\n",
        "    # Plot loss function\n",
        "    plt.subplot(222)\n",
        "    plt.plot(hist.history['digit2_acc'],'bo--', label = \"digit2_acc\")\n",
        "    plt.plot(hist.history['val_digit2_acc'], 'ro--', label = \"val_digit2_acc\")\n",
        "    plt.title(\"digit2_acc vs val_digit2_acc\")\n",
        "    plt.ylabel(\"digit2_accuracy\")\n",
        "    plt.xlabel(\"epochs\")\n",
        "\n",
        "    plt.legend()\n",
        "    plt.show()\n",
        "  \n",
        "plot_accuracy_loss(hist)"
      ],
      "execution_count": null,
      "outputs": [
        {
          "output_type": "display_data",
          "data": {
            "image/png": "[encoded data removed]",
            "text/plain": [
              "<Figure size 1152x720 with 2 Axes>"
            ]
          },
          "metadata": {
            "tags": []
          }
        }
      ]
    },
    {
      "cell_type": "markdown",
      "metadata": {
        "id": "3-8d4BKoXRjS",
        "colab_type": "text"
      },
      "source": [
        "### Save model weights"
      ]
    },
    {
      "cell_type": "code",
      "metadata": {
        "id": "SuCHIJgFXqZd",
        "colab_type": "code",
        "colab": {}
      },
      "source": [
        "!cp two-digit-custom-model-test3-with-cnn-lstm.h5 drive/My\\ Drive/mnist-generator/."
      ],
      "execution_count": null,
      "outputs": []
    },
    {
      "cell_type": "markdown",
      "metadata": {
        "id": "_f2oBOFeXbRT",
        "colab_type": "text"
      },
      "source": [
        "### Load Model"
      ]
    },
    {
      "cell_type": "code",
      "metadata": {
        "id": "VMGmy9fqXiWr",
        "colab_type": "code",
        "colab": {}
      },
      "source": [
        "!cp drive/My\\ Drive/mnist-generator/two-digit-custom-model-test2-with-batchnormalization.h5 ."
      ],
      "execution_count": null,
      "outputs": []
    },
    {
      "cell_type": "code",
      "metadata": {
        "id": "7jgdWDDcXeVb",
        "colab_type": "code",
        "colab": {}
      },
      "source": [
        "model.load_weights('two-digit-custom-model-test2-with-batchnormalization.h5')"
      ],
      "execution_count": null,
      "outputs": []
    },
    {
      "cell_type": "markdown",
      "metadata": {
        "id": "sdEWDUgrXUqL",
        "colab_type": "text"
      },
      "source": [
        "### Evaluate model on test"
      ]
    },
    {
      "cell_type": "code",
      "metadata": {
        "id": "OxDhqAXtFGif",
        "colab_type": "code",
        "colab": {}
      },
      "source": [
        "test_labels[0] = test_labels[0].reshape(1000,10,10)\n",
        "test_labels[1] = test_labels[1].reshape(1000,10,10)"
      ],
      "execution_count": null,
      "outputs": []
    },
    {
      "cell_type": "code",
      "metadata": {
        "id": "wUsheTedYP-L",
        "colab_type": "code",
        "colab": {
          "base_uri": "https://localhost:8080/",
          "height": 53
        },
        "outputId": "00e838c0-3bf4-47b6-9230-ce534085b7d8"
      },
      "source": [
        "scores = model.evaluate(test_images, test_labels)\n",
        "print(f\"First digit accuracy: {scores[3]} , Second digit accuracy: {scores[4]}\")"
      ],
      "execution_count": null,
      "outputs": [
        {
          "output_type": "stream",
          "text": [
            "1000/1000 [==============================] - 3s 3ms/step\n",
            "First digit accuracy: 0.9678999781608582 , Second digit accuracy: 0.9670000076293945\n"
          ],
          "name": "stdout"
        }
      ]
    },
    {
      "cell_type": "markdown",
      "metadata": {
        "id": "vpKuFFTVZE_0",
        "colab_type": "text"
      },
      "source": [
        "### Model Inference"
      ]
    },
    {
      "cell_type": "code",
      "metadata": {
        "id": "CGf1rN2VZdjD",
        "colab_type": "code",
        "colab": {
          "base_uri": "https://localhost:8080/",
          "height": 1000
        },
        "outputId": "57014f8a-dd96-4a77-e57f-2f3593e1f4e6"
      },
      "source": [
        "#Printing some examples of real and predicted labels\n",
        "predictions = model.predict(test_images)\n",
        "predictions[0] = predictions[0].reshape(10000,10)\n",
        "predictions[1] = predictions[1].reshape(10000,10)\n",
        "test_labels[0] = test_labels[0].reshape(10000,10)\n",
        "test_labels[1] = test_labels[1].reshape(10000,10)\n",
        "\n",
        "for i in random.sample(range(0,10000),50):\n",
        "    \n",
        "    actual_labels = []\n",
        "    predicted_labels = []\n",
        "    \n",
        "    for j in range(0,2):\n",
        "        actual_labels.append(np.argmax(test_labels[j][i]))\n",
        "        predicted_labels.append(np.argmax(predictions[j][i]))\n",
        "        \n",
        "    print(\"Actual labels: {}\".format(actual_labels))\n",
        "    print(\"Predicted labels: {}\\n\".format(predicted_labels))"
      ],
      "execution_count": null,
      "outputs": [
        {
          "output_type": "stream",
          "text": [
            "Actual labels: [3, 3]\n",
            "Predicted labels: [3, 3]\n",
            "\n",
            "Actual labels: [9, 3]\n",
            "Predicted labels: [9, 3]\n",
            "\n",
            "Actual labels: [5, 3]\n",
            "Predicted labels: [5, 3]\n",
            "\n",
            "Actual labels: [4, 8]\n",
            "Predicted labels: [4, 8]\n",
            "\n",
            "Actual labels: [3, 1]\n",
            "Predicted labels: [3, 1]\n",
            "\n",
            "Actual labels: [4, 1]\n",
            "Predicted labels: [4, 1]\n",
            "\n",
            "Actual labels: [4, 9]\n",
            "Predicted labels: [4, 9]\n",
            "\n",
            "Actual labels: [7, 8]\n",
            "Predicted labels: [7, 8]\n",
            "\n",
            "Actual labels: [5, 4]\n",
            "Predicted labels: [5, 4]\n",
            "\n",
            "Actual labels: [7, 1]\n",
            "Predicted labels: [7, 1]\n",
            "\n",
            "Actual labels: [7, 9]\n",
            "Predicted labels: [7, 9]\n",
            "\n",
            "Actual labels: [7, 4]\n",
            "Predicted labels: [7, 4]\n",
            "\n",
            "Actual labels: [7, 7]\n",
            "Predicted labels: [7, 2]\n",
            "\n",
            "Actual labels: [9, 4]\n",
            "Predicted labels: [9, 4]\n",
            "\n",
            "Actual labels: [0, 1]\n",
            "Predicted labels: [0, 1]\n",
            "\n",
            "Actual labels: [8, 1]\n",
            "Predicted labels: [8, 1]\n",
            "\n",
            "Actual labels: [4, 8]\n",
            "Predicted labels: [4, 8]\n",
            "\n",
            "Actual labels: [7, 7]\n",
            "Predicted labels: [7, 7]\n",
            "\n",
            "Actual labels: [2, 5]\n",
            "Predicted labels: [2, 5]\n",
            "\n",
            "Actual labels: [4, 5]\n",
            "Predicted labels: [4, 5]\n",
            "\n",
            "Actual labels: [7, 0]\n",
            "Predicted labels: [7, 0]\n",
            "\n",
            "Actual labels: [5, 2]\n",
            "Predicted labels: [5, 2]\n",
            "\n",
            "Actual labels: [7, 3]\n",
            "Predicted labels: [7, 3]\n",
            "\n",
            "Actual labels: [0, 2]\n",
            "Predicted labels: [0, 2]\n",
            "\n",
            "Actual labels: [8, 2]\n",
            "Predicted labels: [8, 2]\n",
            "\n",
            "Actual labels: [2, 2]\n",
            "Predicted labels: [2, 2]\n",
            "\n",
            "Actual labels: [4, 3]\n",
            "Predicted labels: [4, 3]\n",
            "\n",
            "Actual labels: [5, 3]\n",
            "Predicted labels: [5, 3]\n",
            "\n",
            "Actual labels: [2, 1]\n",
            "Predicted labels: [2, 1]\n",
            "\n",
            "Actual labels: [3, 3]\n",
            "Predicted labels: [3, 3]\n",
            "\n",
            "Actual labels: [5, 8]\n",
            "Predicted labels: [5, 8]\n",
            "\n",
            "Actual labels: [1, 2]\n",
            "Predicted labels: [1, 2]\n",
            "\n",
            "Actual labels: [9, 3]\n",
            "Predicted labels: [9, 5]\n",
            "\n",
            "Actual labels: [9, 5]\n",
            "Predicted labels: [9, 5]\n",
            "\n",
            "Actual labels: [5, 8]\n",
            "Predicted labels: [5, 8]\n",
            "\n",
            "Actual labels: [4, 7]\n",
            "Predicted labels: [4, 7]\n",
            "\n",
            "Actual labels: [0, 1]\n",
            "Predicted labels: [0, 1]\n",
            "\n",
            "Actual labels: [3, 9]\n",
            "Predicted labels: [3, 9]\n",
            "\n",
            "Actual labels: [7, 7]\n",
            "Predicted labels: [7, 7]\n",
            "\n",
            "Actual labels: [2, 6]\n",
            "Predicted labels: [2, 6]\n",
            "\n",
            "Actual labels: [7, 1]\n",
            "Predicted labels: [7, 1]\n",
            "\n",
            "Actual labels: [3, 9]\n",
            "Predicted labels: [3, 9]\n",
            "\n",
            "Actual labels: [6, 7]\n",
            "Predicted labels: [6, 7]\n",
            "\n",
            "Actual labels: [5, 1]\n",
            "Predicted labels: [5, 1]\n",
            "\n",
            "Actual labels: [6, 0]\n",
            "Predicted labels: [6, 0]\n",
            "\n",
            "Actual labels: [1, 5]\n",
            "Predicted labels: [1, 5]\n",
            "\n",
            "Actual labels: [7, 6]\n",
            "Predicted labels: [7, 6]\n",
            "\n",
            "Actual labels: [4, 2]\n",
            "Predicted labels: [4, 2]\n",
            "\n",
            "Actual labels: [5, 8]\n",
            "Predicted labels: [5, 8]\n",
            "\n",
            "Actual labels: [9, 6]\n",
            "Predicted labels: [3, 6]\n",
            "\n"
          ],
          "name": "stdout"
        }
      ]
    }
  ]
}
