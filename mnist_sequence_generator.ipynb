{
  "nbformat": 4,
  "nbformat_minor": 0,
  "metadata": {
    "colab": {
      "name": "mnist-sequence-generator.ipynb",
      "provenance": [],
      "collapsed_sections": []
    },
    "kernelspec": {
      "name": "python3",
      "display_name": "Python 3"
    },
    "accelerator": "GPU"
  },
  "cells": [
    {
      "cell_type": "markdown",
      "metadata": {
        "id": "SE8ipjHXO_F3",
        "colab_type": "text"
      },
      "source": [
        "### Import libraries"
      ]
    },
    {
      "cell_type": "code",
      "metadata": {
        "id": "lUQlzSWNIZKe",
        "colab_type": "code",
        "colab": {}
      },
      "source": [
        "import random\n",
        "\n",
        "import numpy as np\n",
        "from skimage.transform import resize\n",
        "\n",
        "from keras.datasets import mnist\n",
        "from keras.utils import np_utils\n",
        "\n",
        "import matplotlib.pyplot as plt\n",
        "plt.style.use('ggplot')"
      ],
      "execution_count": 0,
      "outputs": []
    },
    {
      "cell_type": "markdown",
      "metadata": {
        "id": "sBf6yylnPJaG",
        "colab_type": "text"
      },
      "source": [
        "### Load MNIST"
      ]
    },
    {
      "cell_type": "code",
      "metadata": {
        "id": "J9HpF25SIj8o",
        "colab_type": "code",
        "colab": {
          "base_uri": "https://localhost:8080/",
          "height": 53
        },
        "outputId": "d6970120-3144-484a-dac9-47de4c641ab1"
      },
      "source": [
        "\n",
        "mnist_img_height , mnist_img_width = 28 , 28\n",
        "(x_train,y_train), (x_test, y_test) = mnist.load_data()"
      ],
      "execution_count": 2,
      "outputs": [
        {
          "output_type": "stream",
          "text": [
            "Downloading data from https://s3.amazonaws.com/img-datasets/mnist.npz\n",
            "11493376/11490434 [==============================] - 1s 0us/step\n"
          ],
          "name": "stdout"
        }
      ]
    },
    {
      "cell_type": "code",
      "metadata": {
        "id": "GaaXaeD8IoWH",
        "colab_type": "code",
        "outputId": "64d36950-00b8-4541-a884-a9f5cb011b59",
        "colab": {
          "base_uri": "https://localhost:8080/",
          "height": 53
        }
      },
      "source": [
        "print(f\"Number of train images:{x_train.shape[0]}\")\n",
        "print(f\"Number of test images:{x_test.shape[0]}\")"
      ],
      "execution_count": 3,
      "outputs": [
        {
          "output_type": "stream",
          "text": [
            "Number of train images:60000\n",
            "Number of test images:10000\n"
          ],
          "name": "stdout"
        }
      ]
    },
    {
      "cell_type": "markdown",
      "metadata": {
        "id": "gi4MH0t_JMPQ",
        "colab_type": "text"
      },
      "source": [
        "### Build two-digit mnist sequences "
      ]
    },
    {
      "cell_type": "code",
      "metadata": {
        "id": "IEo7zjLwJOVf",
        "colab_type": "code",
        "colab": {}
      },
      "source": [
        "def build_sequence_mnist(data,labels,dataset_size,IS_TRAIN=True):\n",
        "    \n",
        "    # sequence data size\n",
        "    seq_img_height = 64\n",
        "    seq_img_width = 64\n",
        "    \n",
        "    seq_data = np.ndarray(shape=(dataset_size,seq_img_height,seq_img_width),\n",
        "                           dtype=np.float32)\n",
        "    seq_labels = [] \n",
        "    \n",
        "    for i in range(0,dataset_size):\n",
        "        \n",
        "        #Pick a random number of digits to be in the dataset\n",
        "        # num_digits = random.randint(1,2)\n",
        "        \n",
        "        s_indices = [random.randint(0,len(data)-1) for p in range(0,2)]\n",
        "\n",
        "        if IS_TRAIN:\n",
        "          # concatenating images and labels together\n",
        "          new_image = np.hstack([x_train[index] for index in s_indices])\n",
        "          new_label =  [y_train[index] for index in s_indices]\n",
        "        else:\n",
        "\n",
        "          new_image = np.hstack([x_test[index] for index in s_indices])\n",
        "          new_label =  [y_test[index] for index in s_indices]\n",
        "        \n",
        "        \n",
        "        #Resize image\n",
        "        new_image = resize(new_image,(seq_img_height,seq_img_width))\n",
        "        \n",
        "        seq_data[i,:,:] = new_image\n",
        "        seq_labels.append(tuple(new_label))\n",
        "        \n",
        "    \n",
        "    #Return the synthetic dataset\n",
        "    return seq_data,seq_labels\n"
      ],
      "execution_count": 0,
      "outputs": []
    },
    {
      "cell_type": "code",
      "metadata": {
        "id": "J7-CO7tXKyOQ",
        "colab_type": "code",
        "colab": {}
      },
      "source": [
        "x_seq_train,y_seq_train = build_sequence_mnist(x_train,y_train,60000)\n",
        "x_seq_test,y_seq_test = build_sequence_mnist(x_test,y_test,10000,IS_TRAIN=False)"
      ],
      "execution_count": 0,
      "outputs": []
    },
    {
      "cell_type": "code",
      "metadata": {
        "id": "IOE49QEmLzCZ",
        "colab_type": "code",
        "outputId": "f9670d82-d546-43ec-eada-98d21289783a",
        "colab": {
          "base_uri": "https://localhost:8080/",
          "height": 282
        }
      },
      "source": [
        "RANDOM_IMG_TO_SHOW = 2\n",
        "plt.figure()\n",
        "plt.imshow(x_seq_test[RANDOM_IMG_TO_SHOW], cmap='gray')\n",
        "plt.title(\"Labeled as: {}\".format(''.join(str(i) for i in y_seq_test[RANDOM_IMG_TO_SHOW])))\n",
        "plt.grid(b=None)\n",
        "plt.show()"
      ],
      "execution_count": 8,
      "outputs": [
        {
          "output_type": "display_data",
          "data": {
            "image/png": "[encoded data removed]",
            "text/plain": [
              "<Figure size 432x288 with 1 Axes>"
            ]
          },
          "metadata": {
            "tags": []
          }
        }
      ]
    },
    {
      "cell_type": "markdown",
      "metadata": {
        "id": "Xcht9iebXJeT",
        "colab_type": "text"
      },
      "source": [
        "### One-Hot encoding"
      ]
    },
    {
      "cell_type": "code",
      "metadata": {
        "id": "xbajoq1gXVMt",
        "colab_type": "code",
        "colab": {}
      },
      "source": [
        "#Converting labels to One-hot representations of shape (set_size,digits,classes)\n",
        "possible_classes = 10\n",
        "\n",
        "def convert_labels(labels):\n",
        "        \n",
        "    #Declare output ndarrays\n",
        "    dig0_arr = np.ndarray(shape=(len(labels),possible_classes))\n",
        "    dig1_arr = np.ndarray(shape=(len(labels),possible_classes))\n",
        "\n",
        "    \n",
        "    for index,label in enumerate(labels):\n",
        "        \n",
        "        dig0_arr[index,:] = np_utils.to_categorical(label[0],possible_classes)\n",
        "        dig1_arr[index,:] = np_utils.to_categorical(label[1],possible_classes)\n",
        "        \n",
        "    return [dig0_arr,dig1_arr]"
      ],
      "execution_count": 0,
      "outputs": []
    },
    {
      "cell_type": "code",
      "metadata": {
        "id": "voq2ld3CXwha",
        "colab_type": "code",
        "colab": {}
      },
      "source": [
        "train_labels = convert_labels(y_seq_train)\n",
        "test_labels = convert_labels(y_seq_test)"
      ],
      "execution_count": 0,
      "outputs": []
    },
    {
      "cell_type": "code",
      "metadata": {
        "id": "OLJmhQrYPpVe",
        "colab_type": "code",
        "outputId": "1941512b-5d6a-4346-b2a9-597cbe1cd3ae",
        "colab": {
          "base_uri": "https://localhost:8080/",
          "height": 35
        }
      },
      "source": [
        "np.shape(test_labels[0])"
      ],
      "execution_count": 15,
      "outputs": [
        {
          "output_type": "execute_result",
          "data": {
            "text/plain": [
              "(10000, 10)"
            ]
          },
          "metadata": {
            "tags": []
          },
          "execution_count": 15
        }
      ]
    },
    {
      "cell_type": "markdown",
      "metadata": {
        "id": "0Cin0p9aYOFr",
        "colab_type": "text"
      },
      "source": [
        "### Define Model  --> a simple model"
      ]
    },
    {
      "cell_type": "code",
      "metadata": {
        "id": "DX1jtpy1YYuy",
        "colab_type": "code",
        "outputId": "4ba341ed-1ea0-4d96-ca1e-15d98af06cea",
        "colab": {
          "base_uri": "https://localhost:8080/",
          "height": 671
        }
      },
      "source": [
        "from keras.models import Sequential, Model\n",
        "from keras.layers import Dense, Dropout, Activation, Flatten, Input\n",
        "from keras.layers import Conv2D, MaxPool2D, TimeDistributed, LSTM, GlobalAveragePooling2D, Convolution2D, MaxPooling2D, BatchNormalization\n",
        "from keras.applications.resnet50 import ResNet50\n",
        "from keras.applications import VGG16\n",
        "from keras.optimizers import RMSprop\n",
        "\n",
        "nb_classes = 10\n",
        "\n",
        "img_rows = 64\n",
        "img_cols = 64\n",
        "img_channels = 1\n",
        "\n",
        "#number of convulation filters to use\n",
        "nb_filters = 32\n",
        "# size of pooling area for max pooling\n",
        "pool_size = (2, 2)\n",
        "# convolution kernel size\n",
        "kernel_size = (3, 3)\n",
        "\n",
        "#defining the input\n",
        "inputs = Input(shape=(img_rows,img_cols,img_channels))\n",
        "\n",
        "#Model taken from keras example. Worked well for a digit, dunno for multiple\n",
        "cov = Convolution2D(nb_filters,kernel_size,padding='same')(inputs)\n",
        "cov = Activation('relu')(cov)\n",
        "cov = BatchNormalization()(cov)\n",
        "cov = Convolution2D(nb_filters,kernel_size)(cov)\n",
        "cov = Activation('relu')(cov)\n",
        "cov = BatchNormalization()(cov)\n",
        "cov = MaxPooling2D(pool_size=pool_size)(cov)\n",
        "cov = Dropout(0.25)(cov)\n",
        "cov_out = Flatten()(cov)\n",
        "cov2 = Dense(128, activation='relu')(cov_out)\n",
        "cov2 = Dropout(0.5)(cov2)\n",
        "\n",
        "\n",
        "#Prediction layers\n",
        "c0 = Dense(nb_classes, activation='softmax', name='digit1')(cov2)\n",
        "c1 = Dense(nb_classes, activation='softmax', name='digit2')(cov2)\n",
        "\n",
        "#Defining the model\n",
        "model = Model(inputs=inputs,outputs=[c0,c1],name='custom-simple-model')\n",
        "\n",
        "#Compiling the model\n",
        "model.compile(loss='categorical_crossentropy',optimizer=RMSprop(lr=0.001),metrics=['accuracy'])\n",
        "model.summary()\n"
      ],
      "execution_count": 44,
      "outputs": [
        {
          "output_type": "stream",
          "text": [
            "Model: \"custom-simple-model\"\n",
            "__________________________________________________________________________________________________\n",
            "Layer (type)                    Output Shape         Param #     Connected to                     \n",
            "==================================================================================================\n",
            "input_9 (InputLayer)            (None, 64, 64, 1)    0                                            \n",
            "__________________________________________________________________________________________________\n",
            "conv2d_13 (Conv2D)              (None, 64, 64, 32)   320         input_9[0][0]                    \n",
            "__________________________________________________________________________________________________\n",
            "activation_13 (Activation)      (None, 64, 64, 32)   0           conv2d_13[0][0]                  \n",
            "__________________________________________________________________________________________________\n",
            "batch_normalization_11 (BatchNo (None, 64, 64, 32)   128         activation_13[0][0]              \n",
            "__________________________________________________________________________________________________\n",
            "conv2d_14 (Conv2D)              (None, 62, 62, 32)   9248        batch_normalization_11[0][0]     \n",
            "__________________________________________________________________________________________________\n",
            "activation_14 (Activation)      (None, 62, 62, 32)   0           conv2d_14[0][0]                  \n",
            "__________________________________________________________________________________________________\n",
            "batch_normalization_12 (BatchNo (None, 62, 62, 32)   128         activation_14[0][0]              \n",
            "__________________________________________________________________________________________________\n",
            "max_pooling2d_7 (MaxPooling2D)  (None, 31, 31, 32)   0           batch_normalization_12[0][0]     \n",
            "__________________________________________________________________________________________________\n",
            "dropout_13 (Dropout)            (None, 31, 31, 32)   0           max_pooling2d_7[0][0]            \n",
            "__________________________________________________________________________________________________\n",
            "flatten_7 (Flatten)             (None, 30752)        0           dropout_13[0][0]                 \n",
            "__________________________________________________________________________________________________\n",
            "dense_19 (Dense)                (None, 128)          3936384     flatten_7[0][0]                  \n",
            "__________________________________________________________________________________________________\n",
            "dropout_14 (Dropout)            (None, 128)          0           dense_19[0][0]                   \n",
            "__________________________________________________________________________________________________\n",
            "digit1 (Dense)                  (None, 10)           1290        dropout_14[0][0]                 \n",
            "__________________________________________________________________________________________________\n",
            "digit2 (Dense)                  (None, 10)           1290        dropout_14[0][0]                 \n",
            "==================================================================================================\n",
            "Total params: 3,948,788\n",
            "Trainable params: 3,948,660\n",
            "Non-trainable params: 128\n",
            "__________________________________________________________________________________________________\n"
          ],
          "name": "stdout"
        }
      ]
    },
    {
      "cell_type": "markdown",
      "metadata": {
        "id": "PvZ9tiPfoSc1",
        "colab_type": "text"
      },
      "source": [
        "### Prepare Data"
      ]
    },
    {
      "cell_type": "code",
      "metadata": {
        "id": "BNT6JXd4oTy1",
        "colab_type": "code",
        "outputId": "b2d11495-cec7-42dd-cff3-7fda14f4264d",
        "colab": {
          "base_uri": "https://localhost:8080/",
          "height": 35
        }
      },
      "source": [
        "def prep_data_keras(img_data):\n",
        "    \n",
        "    img_data = img_data.reshape(len(img_data),64,64,1)\n",
        "    img_data = img_data.astype('float32')\n",
        "    img_data /= 255.0\n",
        "    \n",
        "    return img_data\n",
        "\n",
        "train_images = prep_data_keras(x_seq_train)\n",
        "test_images = prep_data_keras(x_seq_test)\n",
        "print(f\"Train Image Shape: {test_images.shape}\")"
      ],
      "execution_count": 42,
      "outputs": [
        {
          "output_type": "stream",
          "text": [
            "Train Image Shape: (10000, 64, 64, 1)\n"
          ],
          "name": "stdout"
        }
      ]
    },
    {
      "cell_type": "markdown",
      "metadata": {
        "id": "RW7yO7RKW_OM",
        "colab_type": "text"
      },
      "source": [
        "### Define callbacks and call model.fit()"
      ]
    },
    {
      "cell_type": "code",
      "metadata": {
        "id": "FjUIChSFpB3F",
        "colab_type": "code",
        "outputId": "c28d8fa9-2809-4de3-b97c-13b26d464c08",
        "colab": {
          "base_uri": "https://localhost:8080/",
          "height": 1000
        }
      },
      "source": [
        "from keras.callbacks import ModelCheckpoint, LearningRateScheduler, EarlyStopping\n",
        "import numpy as np\n",
        "\n",
        "save_dir = 'two-digit-custom-model-test2-with-batchnormalization.h5'\n",
        "model_checkpoint = ModelCheckpoint(save_dir, \n",
        "\t\t\t\t\t\t\tmonitor='val_loss', verbose=1, \n",
        "\t\t\t\t\t\t\tsave_best_only=True, mode='min')\n",
        "\n",
        "lr_sched = LearningRateScheduler(lambda epoch: 1e-4 * (0.75 ** np.floor(epoch / 2)))\n",
        "\n",
        "early = EarlyStopping(monitor='val_loss', patience=5, mode='min', verbose=1)\n",
        "                      \n",
        "hist = model.fit(train_images,train_labels,batch_size=32,epochs=50,verbose=2,validation_split=0.2, callbacks=[model_checkpoint, lr_sched, early])"
      ],
      "execution_count": 45,
      "outputs": [
        {
          "output_type": "stream",
          "text": [
            "Train on 48000 samples, validate on 12000 samples\n",
            "Epoch 1/50\n",
            " - 57s - loss: 1.2767 - digit1_loss: 0.6351 - digit2_loss: 0.6416 - digit1_accuracy: 0.7971 - digit2_accuracy: 0.7934 - val_loss: 12.3210 - val_digit1_loss: 6.7812 - val_digit2_loss: 5.5399 - val_digit1_accuracy: 0.2013 - val_digit2_accuracy: 0.4107\n",
            "\n",
            "Epoch 00001: val_loss improved from inf to 12.32104, saving model to two-digit-custom-model-test2-with-batchnormalization.h5\n",
            "Epoch 2/50\n",
            " - 56s - loss: 0.6821 - digit1_loss: 0.3401 - digit2_loss: 0.3420 - digit1_accuracy: 0.8930 - digit2_accuracy: 0.8928 - val_loss: 60.3461 - val_digit1_loss: 29.8177 - val_digit2_loss: 30.5284 - val_digit1_accuracy: 0.1690 - val_digit2_accuracy: 0.1968\n",
            "\n",
            "Epoch 00002: val_loss did not improve from 12.32104\n",
            "Epoch 3/50\n",
            " - 56s - loss: 0.5029 - digit1_loss: 0.2500 - digit2_loss: 0.2529 - digit1_accuracy: 0.9227 - digit2_accuracy: 0.9220 - val_loss: 1.6607 - val_digit1_loss: 0.8926 - val_digit2_loss: 0.7682 - val_digit1_accuracy: 0.8438 - val_digit2_accuracy: 0.8433\n",
            "\n",
            "Epoch 00003: val_loss improved from 12.32104 to 1.66073, saving model to two-digit-custom-model-test2-with-batchnormalization.h5\n",
            "Epoch 4/50\n",
            " - 56s - loss: 0.4217 - digit1_loss: 0.2101 - digit2_loss: 0.2116 - digit1_accuracy: 0.9360 - digit2_accuracy: 0.9347 - val_loss: 3.2239 - val_digit1_loss: 1.8358 - val_digit2_loss: 1.3881 - val_digit1_accuracy: 0.6764 - val_digit2_accuracy: 0.7391\n",
            "\n",
            "Epoch 00004: val_loss did not improve from 1.66073\n",
            "Epoch 5/50\n",
            " - 56s - loss: 0.3588 - digit1_loss: 0.1812 - digit2_loss: 0.1777 - digit1_accuracy: 0.9450 - digit2_accuracy: 0.9449 - val_loss: 0.3630 - val_digit1_loss: 0.1865 - val_digit2_loss: 0.1766 - val_digit1_accuracy: 0.9490 - val_digit2_accuracy: 0.9497\n",
            "\n",
            "Epoch 00005: val_loss improved from 1.66073 to 0.36302, saving model to two-digit-custom-model-test2-with-batchnormalization.h5\n",
            "Epoch 6/50\n",
            " - 56s - loss: 0.3236 - digit1_loss: 0.1610 - digit2_loss: 0.1626 - digit1_accuracy: 0.9500 - digit2_accuracy: 0.9506 - val_loss: 3.9958 - val_digit1_loss: 2.0094 - val_digit2_loss: 1.9863 - val_digit1_accuracy: 0.4952 - val_digit2_accuracy: 0.5039\n",
            "\n",
            "Epoch 00006: val_loss did not improve from 0.36302\n",
            "Epoch 7/50\n",
            " - 56s - loss: 0.2963 - digit1_loss: 0.1490 - digit2_loss: 0.1473 - digit1_accuracy: 0.9560 - digit2_accuracy: 0.9544 - val_loss: 0.3794 - val_digit1_loss: 0.1746 - val_digit2_loss: 0.2048 - val_digit1_accuracy: 0.9553 - val_digit2_accuracy: 0.9463\n",
            "\n",
            "Epoch 00007: val_loss did not improve from 0.36302\n",
            "Epoch 8/50\n",
            " - 56s - loss: 0.2757 - digit1_loss: 0.1382 - digit2_loss: 0.1376 - digit1_accuracy: 0.9585 - digit2_accuracy: 0.9583 - val_loss: 0.6611 - val_digit1_loss: 0.3290 - val_digit2_loss: 0.3321 - val_digit1_accuracy: 0.9022 - val_digit2_accuracy: 0.8996\n",
            "\n",
            "Epoch 00008: val_loss did not improve from 0.36302\n",
            "Epoch 9/50\n",
            " - 56s - loss: 0.2591 - digit1_loss: 0.1300 - digit2_loss: 0.1290 - digit1_accuracy: 0.9607 - digit2_accuracy: 0.9612 - val_loss: 0.4205 - val_digit1_loss: 0.2316 - val_digit2_loss: 0.1890 - val_digit1_accuracy: 0.9283 - val_digit2_accuracy: 0.9412\n",
            "\n",
            "Epoch 00009: val_loss did not improve from 0.36302\n",
            "Epoch 10/50\n",
            " - 56s - loss: 0.2519 - digit1_loss: 0.1258 - digit2_loss: 0.1261 - digit1_accuracy: 0.9621 - digit2_accuracy: 0.9609 - val_loss: 0.2699 - val_digit1_loss: 0.1381 - val_digit2_loss: 0.1318 - val_digit1_accuracy: 0.9612 - val_digit2_accuracy: 0.9624\n",
            "\n",
            "Epoch 00010: val_loss improved from 0.36302 to 0.26993, saving model to two-digit-custom-model-test2-with-batchnormalization.h5\n",
            "Epoch 11/50\n",
            " - 56s - loss: 0.2355 - digit1_loss: 0.1180 - digit2_loss: 0.1174 - digit1_accuracy: 0.9641 - digit2_accuracy: 0.9648 - val_loss: 1.4551 - val_digit1_loss: 0.7710 - val_digit2_loss: 0.6842 - val_digit1_accuracy: 0.8657 - val_digit2_accuracy: 0.8718\n",
            "\n",
            "Epoch 00011: val_loss did not improve from 0.26993\n",
            "Epoch 12/50\n",
            " - 56s - loss: 0.2316 - digit1_loss: 0.1193 - digit2_loss: 0.1123 - digit1_accuracy: 0.9642 - digit2_accuracy: 0.9663 - val_loss: 0.2909 - val_digit1_loss: 0.1517 - val_digit2_loss: 0.1392 - val_digit1_accuracy: 0.9582 - val_digit2_accuracy: 0.9586\n",
            "\n",
            "Epoch 00012: val_loss did not improve from 0.26993\n",
            "Epoch 13/50\n",
            " - 56s - loss: 0.2183 - digit1_loss: 0.1106 - digit2_loss: 0.1077 - digit1_accuracy: 0.9669 - digit2_accuracy: 0.9668 - val_loss: 0.5147 - val_digit1_loss: 0.2570 - val_digit2_loss: 0.2577 - val_digit1_accuracy: 0.9398 - val_digit2_accuracy: 0.9367\n",
            "\n",
            "Epoch 00013: val_loss did not improve from 0.26993\n",
            "Epoch 14/50\n",
            " - 56s - loss: 0.2141 - digit1_loss: 0.1063 - digit2_loss: 0.1078 - digit1_accuracy: 0.9676 - digit2_accuracy: 0.9670 - val_loss: 0.2703 - val_digit1_loss: 0.1361 - val_digit2_loss: 0.1342 - val_digit1_accuracy: 0.9736 - val_digit2_accuracy: 0.9718\n",
            "\n",
            "Epoch 00014: val_loss did not improve from 0.26993\n",
            "Epoch 15/50\n",
            " - 56s - loss: 0.2095 - digit1_loss: 0.1040 - digit2_loss: 0.1055 - digit1_accuracy: 0.9681 - digit2_accuracy: 0.9685 - val_loss: 0.2649 - val_digit1_loss: 0.1408 - val_digit2_loss: 0.1241 - val_digit1_accuracy: 0.9669 - val_digit2_accuracy: 0.9693\n",
            "\n",
            "Epoch 00015: val_loss improved from 0.26993 to 0.26493, saving model to two-digit-custom-model-test2-with-batchnormalization.h5\n",
            "Epoch 16/50\n",
            " - 56s - loss: 0.2035 - digit1_loss: 0.1015 - digit2_loss: 0.1020 - digit1_accuracy: 0.9694 - digit2_accuracy: 0.9687 - val_loss: 0.1853 - val_digit1_loss: 0.0958 - val_digit2_loss: 0.0895 - val_digit1_accuracy: 0.9751 - val_digit2_accuracy: 0.9760\n",
            "\n",
            "Epoch 00016: val_loss improved from 0.26493 to 0.18534, saving model to two-digit-custom-model-test2-with-batchnormalization.h5\n",
            "Epoch 17/50\n",
            " - 56s - loss: 0.2035 - digit1_loss: 0.1012 - digit2_loss: 0.1023 - digit1_accuracy: 0.9700 - digit2_accuracy: 0.9692 - val_loss: 0.1532 - val_digit1_loss: 0.0769 - val_digit2_loss: 0.0762 - val_digit1_accuracy: 0.9783 - val_digit2_accuracy: 0.9788\n",
            "\n",
            "Epoch 00017: val_loss improved from 0.18534 to 0.15319, saving model to two-digit-custom-model-test2-with-batchnormalization.h5\n",
            "Epoch 18/50\n",
            " - 56s - loss: 0.1998 - digit1_loss: 0.1005 - digit2_loss: 0.0994 - digit1_accuracy: 0.9703 - digit2_accuracy: 0.9702 - val_loss: 0.1835 - val_digit1_loss: 0.0929 - val_digit2_loss: 0.0907 - val_digit1_accuracy: 0.9758 - val_digit2_accuracy: 0.9774\n",
            "\n",
            "Epoch 00018: val_loss did not improve from 0.15319\n",
            "Epoch 19/50\n",
            " - 56s - loss: 0.1916 - digit1_loss: 0.0955 - digit2_loss: 0.0961 - digit1_accuracy: 0.9709 - digit2_accuracy: 0.9709 - val_loss: 0.1440 - val_digit1_loss: 0.0741 - val_digit2_loss: 0.0700 - val_digit1_accuracy: 0.9797 - val_digit2_accuracy: 0.9812\n",
            "\n",
            "Epoch 00019: val_loss improved from 0.15319 to 0.14405, saving model to two-digit-custom-model-test2-with-batchnormalization.h5\n",
            "Epoch 20/50\n",
            " - 56s - loss: 0.1924 - digit1_loss: 0.0948 - digit2_loss: 0.0976 - digit1_accuracy: 0.9712 - digit2_accuracy: 0.9703 - val_loss: 0.1445 - val_digit1_loss: 0.0749 - val_digit2_loss: 0.0696 - val_digit1_accuracy: 0.9788 - val_digit2_accuracy: 0.9797\n",
            "\n",
            "Epoch 00020: val_loss did not improve from 0.14405\n",
            "Epoch 21/50\n",
            " - 56s - loss: 0.1936 - digit1_loss: 0.0982 - digit2_loss: 0.0954 - digit1_accuracy: 0.9697 - digit2_accuracy: 0.9705 - val_loss: 0.1365 - val_digit1_loss: 0.0701 - val_digit2_loss: 0.0663 - val_digit1_accuracy: 0.9793 - val_digit2_accuracy: 0.9800\n",
            "\n",
            "Epoch 00021: val_loss improved from 0.14405 to 0.13649, saving model to two-digit-custom-model-test2-with-batchnormalization.h5\n",
            "Epoch 22/50\n",
            " - 56s - loss: 0.1870 - digit1_loss: 0.0924 - digit2_loss: 0.0945 - digit1_accuracy: 0.9715 - digit2_accuracy: 0.9721 - val_loss: 0.1618 - val_digit1_loss: 0.0832 - val_digit2_loss: 0.0786 - val_digit1_accuracy: 0.9772 - val_digit2_accuracy: 0.9768\n",
            "\n",
            "Epoch 00022: val_loss did not improve from 0.13649\n",
            "Epoch 23/50\n",
            " - 56s - loss: 0.1906 - digit1_loss: 0.0953 - digit2_loss: 0.0953 - digit1_accuracy: 0.9714 - digit2_accuracy: 0.9705 - val_loss: 0.1421 - val_digit1_loss: 0.0744 - val_digit2_loss: 0.0677 - val_digit1_accuracy: 0.9784 - val_digit2_accuracy: 0.9806\n",
            "\n",
            "Epoch 00023: val_loss did not improve from 0.13649\n",
            "Epoch 24/50\n",
            " - 56s - loss: 0.1885 - digit1_loss: 0.0952 - digit2_loss: 0.0933 - digit1_accuracy: 0.9717 - digit2_accuracy: 0.9715 - val_loss: 0.1364 - val_digit1_loss: 0.0704 - val_digit2_loss: 0.0660 - val_digit1_accuracy: 0.9800 - val_digit2_accuracy: 0.9808\n",
            "\n",
            "Epoch 00024: val_loss improved from 0.13649 to 0.13641, saving model to two-digit-custom-model-test2-with-batchnormalization.h5\n",
            "Epoch 25/50\n",
            " - 56s - loss: 0.1851 - digit1_loss: 0.0909 - digit2_loss: 0.0941 - digit1_accuracy: 0.9726 - digit2_accuracy: 0.9717 - val_loss: 0.1538 - val_digit1_loss: 0.0787 - val_digit2_loss: 0.0751 - val_digit1_accuracy: 0.9788 - val_digit2_accuracy: 0.9792\n",
            "\n",
            "Epoch 00025: val_loss did not improve from 0.13641\n",
            "Epoch 26/50\n",
            " - 56s - loss: 0.1886 - digit1_loss: 0.0937 - digit2_loss: 0.0949 - digit1_accuracy: 0.9713 - digit2_accuracy: 0.9706 - val_loss: 0.1301 - val_digit1_loss: 0.0672 - val_digit2_loss: 0.0629 - val_digit1_accuracy: 0.9803 - val_digit2_accuracy: 0.9818\n",
            "\n",
            "Epoch 00026: val_loss improved from 0.13641 to 0.13012, saving model to two-digit-custom-model-test2-with-batchnormalization.h5\n",
            "Epoch 27/50\n",
            " - 56s - loss: 0.1835 - digit1_loss: 0.0913 - digit2_loss: 0.0922 - digit1_accuracy: 0.9725 - digit2_accuracy: 0.9725 - val_loss: 0.1374 - val_digit1_loss: 0.0717 - val_digit2_loss: 0.0657 - val_digit1_accuracy: 0.9789 - val_digit2_accuracy: 0.9812\n",
            "\n",
            "Epoch 00027: val_loss did not improve from 0.13012\n",
            "Epoch 28/50\n",
            " - 56s - loss: 0.1851 - digit1_loss: 0.0914 - digit2_loss: 0.0937 - digit1_accuracy: 0.9729 - digit2_accuracy: 0.9717 - val_loss: 0.1387 - val_digit1_loss: 0.0727 - val_digit2_loss: 0.0660 - val_digit1_accuracy: 0.9790 - val_digit2_accuracy: 0.9809\n",
            "\n",
            "Epoch 00028: val_loss did not improve from 0.13012\n",
            "Epoch 29/50\n",
            " - 56s - loss: 0.1820 - digit1_loss: 0.0889 - digit2_loss: 0.0931 - digit1_accuracy: 0.9726 - digit2_accuracy: 0.9717 - val_loss: 0.1310 - val_digit1_loss: 0.0682 - val_digit2_loss: 0.0629 - val_digit1_accuracy: 0.9804 - val_digit2_accuracy: 0.9820\n",
            "\n",
            "Epoch 00029: val_loss did not improve from 0.13012\n",
            "Epoch 30/50\n",
            " - 56s - loss: 0.1829 - digit1_loss: 0.0905 - digit2_loss: 0.0924 - digit1_accuracy: 0.9726 - digit2_accuracy: 0.9720 - val_loss: 0.1309 - val_digit1_loss: 0.0679 - val_digit2_loss: 0.0630 - val_digit1_accuracy: 0.9808 - val_digit2_accuracy: 0.9822\n",
            "\n",
            "Epoch 00030: val_loss did not improve from 0.13012\n",
            "Epoch 31/50\n",
            " - 56s - loss: 0.1804 - digit1_loss: 0.0896 - digit2_loss: 0.0908 - digit1_accuracy: 0.9731 - digit2_accuracy: 0.9721 - val_loss: 0.1288 - val_digit1_loss: 0.0670 - val_digit2_loss: 0.0618 - val_digit1_accuracy: 0.9808 - val_digit2_accuracy: 0.9819\n",
            "\n",
            "Epoch 00031: val_loss improved from 0.13012 to 0.12876, saving model to two-digit-custom-model-test2-with-batchnormalization.h5\n",
            "Epoch 32/50\n",
            " - 56s - loss: 0.1845 - digit1_loss: 0.0905 - digit2_loss: 0.0940 - digit1_accuracy: 0.9724 - digit2_accuracy: 0.9717 - val_loss: 0.1288 - val_digit1_loss: 0.0670 - val_digit2_loss: 0.0618 - val_digit1_accuracy: 0.9810 - val_digit2_accuracy: 0.9820\n",
            "\n",
            "Epoch 00032: val_loss did not improve from 0.12876\n",
            "Epoch 33/50\n",
            " - 56s - loss: 0.1815 - digit1_loss: 0.0901 - digit2_loss: 0.0914 - digit1_accuracy: 0.9726 - digit2_accuracy: 0.9720 - val_loss: 0.1289 - val_digit1_loss: 0.0670 - val_digit2_loss: 0.0619 - val_digit1_accuracy: 0.9809 - val_digit2_accuracy: 0.9818\n",
            "\n",
            "Epoch 00033: val_loss did not improve from 0.12876\n",
            "Epoch 34/50\n",
            " - 56s - loss: 0.1827 - digit1_loss: 0.0899 - digit2_loss: 0.0928 - digit1_accuracy: 0.9734 - digit2_accuracy: 0.9719 - val_loss: 0.1295 - val_digit1_loss: 0.0671 - val_digit2_loss: 0.0624 - val_digit1_accuracy: 0.9806 - val_digit2_accuracy: 0.9822\n",
            "\n",
            "Epoch 00034: val_loss did not improve from 0.12876\n",
            "Epoch 35/50\n",
            " - 56s - loss: 0.1825 - digit1_loss: 0.0914 - digit2_loss: 0.0910 - digit1_accuracy: 0.9727 - digit2_accuracy: 0.9725 - val_loss: 0.1306 - val_digit1_loss: 0.0679 - val_digit2_loss: 0.0627 - val_digit1_accuracy: 0.9809 - val_digit2_accuracy: 0.9822\n",
            "\n",
            "Epoch 00035: val_loss did not improve from 0.12876\n",
            "Epoch 36/50\n",
            " - 56s - loss: 0.1818 - digit1_loss: 0.0904 - digit2_loss: 0.0914 - digit1_accuracy: 0.9733 - digit2_accuracy: 0.9718 - val_loss: 0.1296 - val_digit1_loss: 0.0672 - val_digit2_loss: 0.0625 - val_digit1_accuracy: 0.9808 - val_digit2_accuracy: 0.9818\n",
            "\n",
            "Epoch 00036: val_loss did not improve from 0.12876\n",
            "Epoch 00036: early stopping\n"
          ],
          "name": "stdout"
        }
      ]
    },
    {
      "cell_type": "markdown",
      "metadata": {
        "id": "hSs9CHhRhXY-",
        "colab_type": "text"
      },
      "source": [
        "### Model Visualization"
      ]
    },
    {
      "cell_type": "code",
      "metadata": {
        "id": "8Il0BKnlhaBC",
        "colab_type": "code",
        "colab": {
          "base_uri": "https://localhost:8080/",
          "height": 329
        },
        "outputId": "1dc63a47-034e-4494-ba11-b37179e3a53b"
      },
      "source": [
        "def plot_accuracy_loss(history):\n",
        "    \"\"\"\n",
        "        Plot the accuracy and the loss during the training of the nn.\n",
        "    \"\"\"\n",
        "    fig = plt.figure(figsize=(16,10))\n",
        "\n",
        "    # Plot accuracy\n",
        "    plt.subplot(221)\n",
        "    plt.plot(hist.history['digit1_accuracy'],'bo--', label = \"digit1_accuracy\")\n",
        "    plt.plot(hist.history['val_digit1_accuracy'], 'ro--', label = \"val_digit1_accuracy\")\n",
        "    plt.title(\"digit1_accuracy vs val_digit1_accuracy\")\n",
        "    plt.ylabel(\"digit1_accuracy\")\n",
        "    plt.xlabel(\"epochs\")\n",
        "    plt.legend()\n",
        "\n",
        "    # Plot loss function\n",
        "    plt.subplot(222)\n",
        "    plt.plot(hist.history['digit2_accuracy'],'bo--', label = \"digit2_accuracy\")\n",
        "    plt.plot(hist.history['val_digit2_accuracy'], 'ro--', label = \"val_digit2_accuracy\")\n",
        "    plt.title(\"digit2_accuracy vs va2_digit1_accuracy\")\n",
        "    plt.ylabel(\"digit2_accuracy\")\n",
        "    plt.xlabel(\"epochs\")\n",
        "\n",
        "    plt.legend()\n",
        "    plt.show()\n",
        "  \n",
        "plot_accuracy_loss(hist)"
      ],
      "execution_count": 47,
      "outputs": [
        {
          "output_type": "display_data",
          "data": {
            "image/png": "[encoded data removed]",
            "text/plain": [
              "<Figure size 1152x720 with 2 Axes>"
            ]
          },
          "metadata": {
            "tags": []
          }
        }
      ]
    },
    {
      "cell_type": "markdown",
      "metadata": {
        "id": "3-8d4BKoXRjS",
        "colab_type": "text"
      },
      "source": [
        "### Save model weights"
      ]
    },
    {
      "cell_type": "code",
      "metadata": {
        "id": "SuCHIJgFXqZd",
        "colab_type": "code",
        "colab": {}
      },
      "source": [
        "!cp two-digit-custom-model-test2-with-batchnormalization.h5 drive/My\\ Drive/mnist-generator/."
      ],
      "execution_count": 0,
      "outputs": []
    },
    {
      "cell_type": "markdown",
      "metadata": {
        "id": "_f2oBOFeXbRT",
        "colab_type": "text"
      },
      "source": [
        "### Load Model"
      ]
    },
    {
      "cell_type": "code",
      "metadata": {
        "id": "VMGmy9fqXiWr",
        "colab_type": "code",
        "colab": {}
      },
      "source": [
        "!cp drive/My\\ Drive/mnist-generator/two-digit-custom-model-test2-with-batchnormalization.h5 ."
      ],
      "execution_count": 0,
      "outputs": []
    },
    {
      "cell_type": "code",
      "metadata": {
        "id": "7jgdWDDcXeVb",
        "colab_type": "code",
        "colab": {}
      },
      "source": [
        "model.load_weights('two-digit-custom-model-test2-with-batchnormalization.h5')"
      ],
      "execution_count": 0,
      "outputs": []
    },
    {
      "cell_type": "markdown",
      "metadata": {
        "id": "sdEWDUgrXUqL",
        "colab_type": "text"
      },
      "source": [
        "### Evaluate model on test"
      ]
    },
    {
      "cell_type": "code",
      "metadata": {
        "id": "wUsheTedYP-L",
        "colab_type": "code",
        "outputId": "1e2f10d7-1210-49c0-96da-ddc55bf84948",
        "colab": {
          "base_uri": "https://localhost:8080/",
          "height": 53
        }
      },
      "source": [
        "scores = model.evaluate(test_images, test_labels)\n",
        "print(f\"First digit accuracy: {scores[3]} , Second digit accuracy: {scores[4]}\")"
      ],
      "execution_count": 49,
      "outputs": [
        {
          "output_type": "stream",
          "text": [
            "10000/10000 [==============================] - 4s 374us/step\n",
            "First digit accuracy: 0.9805999994277954 , Second digit accuracy: 0.9818999767303467\n"
          ],
          "name": "stdout"
        }
      ]
    },
    {
      "cell_type": "markdown",
      "metadata": {
        "id": "vpKuFFTVZE_0",
        "colab_type": "text"
      },
      "source": [
        "### Model Inference"
      ]
    },
    {
      "cell_type": "code",
      "metadata": {
        "id": "CGf1rN2VZdjD",
        "colab_type": "code",
        "colab": {
          "base_uri": "https://localhost:8080/",
          "height": 1000
        },
        "outputId": "73d7bd63-ae66-4d09-a0e4-1fa8d5f69922"
      },
      "source": [
        "#Printing some examples of real and predicted labels\n",
        "predictions = model.predict(test_images)\n",
        "\n",
        "for i in random.sample(range(0,10000),50):\n",
        "    \n",
        "    actual_labels = []\n",
        "    predicted_labels = []\n",
        "    \n",
        "    for j in range(0,2):\n",
        "        actual_labels.append(np.argmax(test_labels[j][i]))\n",
        "        predicted_labels.append(np.argmax(predictions[j][i]))\n",
        "        \n",
        "    print(\"Actual labels: {}\".format(actual_labels))\n",
        "    print(\"Predicted labels: {}\\n\".format(predicted_labels))"
      ],
      "execution_count": 50,
      "outputs": [
        {
          "output_type": "stream",
          "text": [
            "Actual labels: [1, 4]\n",
            "Predicted labels: [1, 4]\n",
            "\n",
            "Actual labels: [2, 7]\n",
            "Predicted labels: [2, 7]\n",
            "\n",
            "Actual labels: [0, 7]\n",
            "Predicted labels: [0, 7]\n",
            "\n",
            "Actual labels: [0, 6]\n",
            "Predicted labels: [0, 6]\n",
            "\n",
            "Actual labels: [6, 8]\n",
            "Predicted labels: [6, 8]\n",
            "\n",
            "Actual labels: [8, 4]\n",
            "Predicted labels: [8, 4]\n",
            "\n",
            "Actual labels: [6, 4]\n",
            "Predicted labels: [6, 4]\n",
            "\n",
            "Actual labels: [6, 8]\n",
            "Predicted labels: [6, 8]\n",
            "\n",
            "Actual labels: [5, 8]\n",
            "Predicted labels: [5, 8]\n",
            "\n",
            "Actual labels: [1, 1]\n",
            "Predicted labels: [1, 1]\n",
            "\n",
            "Actual labels: [5, 8]\n",
            "Predicted labels: [5, 8]\n",
            "\n",
            "Actual labels: [1, 1]\n",
            "Predicted labels: [1, 1]\n",
            "\n",
            "Actual labels: [4, 4]\n",
            "Predicted labels: [4, 4]\n",
            "\n",
            "Actual labels: [1, 4]\n",
            "Predicted labels: [1, 4]\n",
            "\n",
            "Actual labels: [2, 0]\n",
            "Predicted labels: [2, 0]\n",
            "\n",
            "Actual labels: [6, 0]\n",
            "Predicted labels: [6, 0]\n",
            "\n",
            "Actual labels: [2, 2]\n",
            "Predicted labels: [2, 2]\n",
            "\n",
            "Actual labels: [4, 1]\n",
            "Predicted labels: [4, 1]\n",
            "\n",
            "Actual labels: [2, 3]\n",
            "Predicted labels: [2, 3]\n",
            "\n",
            "Actual labels: [2, 8]\n",
            "Predicted labels: [2, 8]\n",
            "\n",
            "Actual labels: [1, 6]\n",
            "Predicted labels: [1, 6]\n",
            "\n",
            "Actual labels: [2, 7]\n",
            "Predicted labels: [2, 7]\n",
            "\n",
            "Actual labels: [9, 1]\n",
            "Predicted labels: [9, 1]\n",
            "\n",
            "Actual labels: [0, 7]\n",
            "Predicted labels: [0, 7]\n",
            "\n",
            "Actual labels: [3, 5]\n",
            "Predicted labels: [3, 5]\n",
            "\n",
            "Actual labels: [4, 2]\n",
            "Predicted labels: [4, 2]\n",
            "\n",
            "Actual labels: [9, 7]\n",
            "Predicted labels: [9, 7]\n",
            "\n",
            "Actual labels: [8, 0]\n",
            "Predicted labels: [8, 0]\n",
            "\n",
            "Actual labels: [7, 7]\n",
            "Predicted labels: [7, 7]\n",
            "\n",
            "Actual labels: [6, 6]\n",
            "Predicted labels: [6, 0]\n",
            "\n",
            "Actual labels: [4, 0]\n",
            "Predicted labels: [4, 0]\n",
            "\n",
            "Actual labels: [0, 0]\n",
            "Predicted labels: [0, 0]\n",
            "\n",
            "Actual labels: [5, 5]\n",
            "Predicted labels: [5, 5]\n",
            "\n",
            "Actual labels: [6, 3]\n",
            "Predicted labels: [6, 3]\n",
            "\n",
            "Actual labels: [8, 3]\n",
            "Predicted labels: [8, 3]\n",
            "\n",
            "Actual labels: [0, 2]\n",
            "Predicted labels: [0, 2]\n",
            "\n",
            "Actual labels: [8, 7]\n",
            "Predicted labels: [8, 7]\n",
            "\n",
            "Actual labels: [8, 3]\n",
            "Predicted labels: [8, 3]\n",
            "\n",
            "Actual labels: [0, 7]\n",
            "Predicted labels: [0, 7]\n",
            "\n",
            "Actual labels: [3, 7]\n",
            "Predicted labels: [3, 7]\n",
            "\n",
            "Actual labels: [5, 3]\n",
            "Predicted labels: [5, 3]\n",
            "\n",
            "Actual labels: [6, 7]\n",
            "Predicted labels: [6, 7]\n",
            "\n",
            "Actual labels: [4, 2]\n",
            "Predicted labels: [4, 2]\n",
            "\n",
            "Actual labels: [1, 1]\n",
            "Predicted labels: [1, 1]\n",
            "\n",
            "Actual labels: [9, 8]\n",
            "Predicted labels: [9, 8]\n",
            "\n",
            "Actual labels: [7, 2]\n",
            "Predicted labels: [7, 2]\n",
            "\n",
            "Actual labels: [1, 2]\n",
            "Predicted labels: [1, 2]\n",
            "\n",
            "Actual labels: [9, 0]\n",
            "Predicted labels: [9, 0]\n",
            "\n",
            "Actual labels: [1, 1]\n",
            "Predicted labels: [1, 1]\n",
            "\n",
            "Actual labels: [9, 3]\n",
            "Predicted labels: [9, 3]\n",
            "\n"
          ],
          "name": "stdout"
        }
      ]
    }
  ]
}